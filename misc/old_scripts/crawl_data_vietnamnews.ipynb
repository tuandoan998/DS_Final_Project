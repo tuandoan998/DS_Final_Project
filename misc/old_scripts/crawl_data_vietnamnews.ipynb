{
 "cells": [
  {
   "cell_type": "code",
   "execution_count": 1,
   "metadata": {},
   "outputs": [],
   "source": [
    "from selenium import webdriver\n",
    "import time\n",
    "import json"
   ]
  },
  {
   "cell_type": "code",
   "execution_count": 2,
   "metadata": {},
   "outputs": [],
   "source": [
    "politics_url = 'https://vietnamnews.vn/politics-laws'\n",
    "society_url = 'https://vietnamnews.vn/society'\n",
    "economy_url = 'https://vietnamnews.vn/economy'\n",
    "sports_url = 'https://vietnamnews.vn/sports'\n",
    "environment_url = 'https://vietnamnews.vn/environment'\n",
    "life_url = 'https://vietnamnews.vn/life-style'\n",
    "\n",
    "categories = [politics_url, society_url, economy_url, sports_url, environment_url, life_url]"
   ]
  },
  {
   "cell_type": "code",
   "execution_count": 22,
   "metadata": {},
   "outputs": [],
   "source": [
    "def get_all_articles_urls(category_url, num_pages):    \n",
    "    browser = webdriver.Chrome('./chromedriver')\n",
    "    browser.get(category_url)\n",
    "    urls=[]\n",
    "    for i in range(num_pages):\n",
    "        try:\n",
    "            articles = browser.find_element_by_class_name('vnnews-list-news').find_elements_by_tag_name(\"li\")\n",
    "            for article in articles:\n",
    "                url = article.find_element_by_tag_name('a').get_attribute('href')\n",
    "                urls.append(url)\n",
    "            if (i+1) % 10 == 0:\n",
    "                print(\"Crawled {} pages\".format(i+1))\n",
    "            browser.find_element_by_class_name(\"vnnews-paging\").find_elements_by_tag_name(\"a\")[4].click()\n",
    "        except:\n",
    "            print('Terminate at {} pages'.format(i+1))\n",
    "            break\n",
    "    browser.close()\n",
    "    return urls"
   ]
  },
  {
   "cell_type": "code",
   "execution_count": 23,
   "metadata": {},
   "outputs": [
    {
     "name": "stdout",
     "output_type": "stream",
     "text": [
      "... Crawling politics-laws ...\n",
      "Crawled 10 pages\n",
      "Crawled 20 pages\n",
      "Crawled 30 pages\n",
      "Crawled 40 pages\n",
      "Crawled 50 pages\n",
      "Crawled 60 pages\n",
      "Crawled 70 pages\n",
      "Crawled 80 pages\n",
      "Crawled 90 pages\n",
      "Crawled 100 pages\n",
      "==================================================\n",
      "... Crawling society ...\n",
      "Crawled 10 pages\n",
      "Crawled 20 pages\n",
      "Crawled 30 pages\n",
      "Crawled 40 pages\n",
      "Crawled 50 pages\n",
      "Crawled 60 pages\n",
      "Crawled 70 pages\n",
      "Crawled 80 pages\n",
      "Crawled 90 pages\n",
      "Crawled 100 pages\n",
      "==================================================\n",
      "... Crawling economy ...\n",
      "Crawled 10 pages\n",
      "Crawled 20 pages\n",
      "Crawled 30 pages\n",
      "Crawled 40 pages\n",
      "Crawled 50 pages\n",
      "Crawled 60 pages\n",
      "Terminate at 64 pages\n",
      "==================================================\n",
      "... Crawling sports ...\n",
      "Crawled 10 pages\n",
      "Crawled 20 pages\n",
      "Crawled 30 pages\n",
      "Crawled 40 pages\n",
      "Crawled 50 pages\n",
      "Crawled 60 pages\n",
      "Crawled 70 pages\n",
      "Crawled 80 pages\n",
      "Crawled 90 pages\n",
      "Crawled 100 pages\n",
      "==================================================\n",
      "... Crawling environment ...\n",
      "Crawled 10 pages\n",
      "Crawled 20 pages\n",
      "Crawled 30 pages\n",
      "Crawled 40 pages\n",
      "Crawled 50 pages\n",
      "Crawled 60 pages\n",
      "Crawled 70 pages\n",
      "Crawled 80 pages\n",
      "Crawled 90 pages\n",
      "Crawled 100 pages\n",
      "==================================================\n",
      "... Crawling life-style ...\n",
      "Crawled 10 pages\n",
      "Crawled 20 pages\n",
      "Crawled 30 pages\n",
      "Crawled 40 pages\n",
      "Crawled 50 pages\n",
      "Crawled 60 pages\n",
      "Crawled 70 pages\n",
      "Crawled 80 pages\n",
      "Crawled 90 pages\n",
      "Crawled 100 pages\n",
      "==================================================\n"
     ]
    }
   ],
   "source": [
    "all_urls = dict()\n",
    "for category in categories:\n",
    "    category_name = category.split('/')[-1]\n",
    "    print(f'... Crawling {category_name} ...')\n",
    "    urls = get_all_articles_urls(category, 100)\n",
    "    all_urls[category_name]=urls\n",
    "    print('='*50)"
   ]
  },
  {
   "cell_type": "code",
   "execution_count": 32,
   "metadata": {},
   "outputs": [],
   "source": [
    "with open('../data/urls/vietnamnews_urls.json', 'w') as json_file:\n",
    "    json.dump(all_urls, json_file)"
   ]
  }
 ],
 "metadata": {
  "kernelspec": {
   "display_name": "Python 3",
   "language": "python",
   "name": "python3"
  },
  "language_info": {
   "codemirror_mode": {
    "name": "ipython",
    "version": 3
   },
   "file_extension": ".py",
   "mimetype": "text/x-python",
   "name": "python",
   "nbconvert_exporter": "python",
   "pygments_lexer": "ipython3",
   "version": "3.6.8"
  }
 },
 "nbformat": 4,
 "nbformat_minor": 4
}
