{
 "cells": [
  {
   "cell_type": "code",
   "execution_count": 1,
   "metadata": {},
   "outputs": [],
   "source": [
    "from selenium import webdriver\n",
    "import time"
   ]
  },
  {
   "cell_type": "code",
   "execution_count": 10,
   "metadata": {},
   "outputs": [],
   "source": [
    "def get_url(keywords, urls, category, bbc_filter='news'):\n",
    "    for keyword in keywords:\n",
    "        browser = webdriver.Chrome('./chromedriver')\n",
    "        browser.get(f'https://www.bbc.co.uk/search?q={keyword}&filter={bbc_filter}')\n",
    "        for j in range(35):\n",
    "            browser.find_element_by_class_name('pagination').click()\n",
    "            time.sleep(1)\n",
    "        search_content = browser.find_element_by_class_name('search-content')\n",
    "        results = search_content.find_elements_by_tag_name('li')\n",
    "        for result in results:\n",
    "            data_bbc_src = result.find_element_by_tag_name('article').get_attribute('data-bbc-source')\n",
    "            url = result.find_element_by_tag_name('a').get_attribute('href')\n",
    "            if (category in data_bbc_src) and ('live' not in url):\n",
    "                if url in urls:\n",
    "                    continue\n",
    "                urls.append(url)\n",
    "#                 print(url)\n",
    "        browser.close()\n",
    "        print(len(urls))"
   ]
  },
  {
   "cell_type": "markdown",
   "metadata": {},
   "source": [
    "# Business"
   ]
  },
  {
   "cell_type": "code",
   "execution_count": 11,
   "metadata": {},
   "outputs": [],
   "source": [
    "business_urls = []\n",
    "\n",
    "business_keys=['business', 'economy', 'money', 'opportunity', 'income', 'financial', 'profitability', 'management', 'strategy', 'retail']\n",
    "\n",
    "get_url(business_keys, business_urls, 'Business')"
   ]
  },
  {
   "cell_type": "code",
   "execution_count": 17,
   "metadata": {},
   "outputs": [],
   "source": [
    "with open(\"urls/business.txt\", \"w\") as text_file:\n",
    "    for url in business_urls:\n",
    "        text_file.write(url+'\\n')\n",
    "    text_file.close()"
   ]
  },
  {
   "cell_type": "markdown",
   "metadata": {},
   "source": [
    "# Technology"
   ]
  },
  {
   "cell_type": "code",
   "execution_count": 18,
   "metadata": {},
   "outputs": [
    {
     "name": "stdout",
     "output_type": "stream",
     "text": [
      "81\n",
      "242\n",
      "249\n",
      "327\n",
      "332\n",
      "408\n",
      "447\n",
      "485\n",
      "533\n",
      "592\n",
      "592\n",
      "606\n",
      "610\n",
      "695\n"
     ]
    }
   ],
   "source": [
    "technology_urls = []\n",
    "\n",
    "technology_keys = ['technology', 'tech', 'modern', 'computer', 'information', 'blockchain', 'cloud', 'digital', 'facebook', 'apple', 'goole',\n",
    "                  'technical', 'service', 'software']\n",
    "\n",
    "get_url(technology_keys, technology_urls, 'Technology')"
   ]
  },
  {
   "cell_type": "code",
   "execution_count": 19,
   "metadata": {},
   "outputs": [],
   "source": [
    "with open(\"urls/technology.txt\", \"w\") as text_file:\n",
    "    for url in technology_urls:\n",
    "        text_file.write(url+'\\n')\n",
    "    text_file.close()"
   ]
  },
  {
   "cell_type": "markdown",
   "metadata": {},
   "source": [
    "# Science"
   ]
  },
  {
   "cell_type": "code",
   "execution_count": 26,
   "metadata": {},
   "outputs": [
    {
     "name": "stdout",
     "output_type": "stream",
     "text": [
      "49\n",
      "148\n",
      "183\n",
      "200\n",
      "256\n",
      "377\n",
      "391\n",
      "482\n",
      "503\n"
     ]
    },
    {
     "data": {
      "text/plain": [
       "503"
      ]
     },
     "execution_count": 26,
     "metadata": {},
     "output_type": "execute_result"
    }
   ],
   "source": [
    "science_urls = []\n",
    "\n",
    "science_keys = ['pollution', 'science', 'environment', 'energy', 'geology', 'earth', 'global',\n",
    "                'warming', 'climate']\n",
    "\n",
    "get_url(science_keys, science_urls, 'Science')\n",
    "\n",
    "len(science_urls)"
   ]
  },
  {
   "cell_type": "code",
   "execution_count": 27,
   "metadata": {},
   "outputs": [],
   "source": [
    "with open(\"urls/science.txt\", \"w\") as text_file:\n",
    "    for url in science_urls:\n",
    "        text_file.write(url+'\\n')\n",
    "    text_file.close()"
   ]
  },
  {
   "cell_type": "markdown",
   "metadata": {},
   "source": [
    "# Entertainment"
   ]
  },
  {
   "cell_type": "code",
   "execution_count": 8,
   "metadata": {},
   "outputs": [
    {
     "name": "stdout",
     "output_type": "stream",
     "text": [
      "151\n",
      "186\n",
      "254\n",
      "411\n",
      "541\n",
      "549\n",
      "597\n",
      "687\n",
      "719\n",
      "778\n",
      "808\n"
     ]
    },
    {
     "data": {
      "text/plain": [
       "808"
      ]
     },
     "execution_count": 8,
     "metadata": {},
     "output_type": "execute_result"
    }
   ],
   "source": [
    "entertainment_urls = []\n",
    "\n",
    "entertainment_keys = ['entertainment', 'arts', 'celebrity', 'hollywood', 'movie', 'paint', 'gallery',\n",
    "                     'pop', 'artist', 'abstract', 'famous']\n",
    "\n",
    "get_url(entertainment_keys, entertainment_urls, 'Entertainment')\n",
    "\n",
    "len(entertainment_urls)"
   ]
  },
  {
   "cell_type": "code",
   "execution_count": 9,
   "metadata": {},
   "outputs": [],
   "source": [
    "with open(\"urls/entertainment.txt\", \"w\") as text_file:\n",
    "    for url in entertainment_urls:\n",
    "        text_file.write(url+'\\n')\n",
    "    text_file.close()"
   ]
  },
  {
   "cell_type": "markdown",
   "metadata": {},
   "source": [
    "# Sport"
   ]
  },
  {
   "cell_type": "code",
   "execution_count": null,
   "metadata": {},
   "outputs": [],
   "source": [
    "sport_urls = []\n",
    "\n",
    "sport_keys = ['sport', 'football', 'formula', 'cricket']\n",
    "\n",
    "get_url(sport_keys, sport_urls, 'Sport', 'sport')\n",
    "\n",
    "len(sport_urls)"
   ]
  },
  {
   "cell_type": "code",
   "execution_count": 15,
   "metadata": {},
   "outputs": [],
   "source": [
    "with open(\"urls/sport.txt\", \"w\") as text_file:\n",
    "    for url in sport_urls:\n",
    "        text_file.write(url+'\\n')\n",
    "    text_file.close()"
   ]
  }
 ],
 "metadata": {
  "kernelspec": {
   "display_name": "Python 3",
   "language": "python",
   "name": "python3"
  },
  "language_info": {
   "codemirror_mode": {
    "name": "ipython",
    "version": 3
   },
   "file_extension": ".py",
   "mimetype": "text/x-python",
   "name": "python",
   "nbconvert_exporter": "python",
   "pygments_lexer": "ipython3",
   "version": "3.6.8"
  }
 },
 "nbformat": 4,
 "nbformat_minor": 4
}
