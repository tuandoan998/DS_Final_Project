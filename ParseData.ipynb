{
 "cells": [
  {
   "cell_type": "code",
   "execution_count": 1,
   "metadata": {},
   "outputs": [],
   "source": [
    "from requests_html import HTMLSession\n",
    "import requests"
   ]
  },
  {
   "cell_type": "code",
   "execution_count": null,
   "metadata": {},
   "outputs": [],
   "source": [
    "# technology, science, Entertainment & Arts, "
   ]
  },
  {
   "cell_type": "code",
   "execution_count": 37,
   "metadata": {},
   "outputs": [],
   "source": [
    "from selenium import webdriver\n",
    "browser = webdriver.Chrome('./chromedriver')\n",
    "browser.get('https://www.bbc.co.uk/search?q=Business&filter=news')"
   ]
  },
  {
   "cell_type": "code",
   "execution_count": 58,
   "metadata": {},
   "outputs": [],
   "source": [
    "# n lan\n",
    "browser.find_element_by_class_name('pagination').click()"
   ]
  },
  {
   "cell_type": "code",
   "execution_count": 59,
   "metadata": {
    "scrolled": true
   },
   "outputs": [
    {
     "name": "stdout",
     "output_type": "stream",
     "text": [
      "<selenium.webdriver.remote.webelement.WebElement (session=\"f5e7894d5ed8e2e6393c251656a2b667\", element=\"f2b84b97-3c64-4381-b80b-4ddf6022976b\")>\n"
     ]
    }
   ],
   "source": [
    "search_content = browser.find_element_by_class_name('search-content')\n",
    "print(search_content)"
   ]
  },
  {
   "cell_type": "code",
   "execution_count": 60,
   "metadata": {},
   "outputs": [
    {
     "data": {
      "text/plain": [
       "[<selenium.webdriver.remote.webelement.WebElement (session=\"f5e7894d5ed8e2e6393c251656a2b667\", element=\"4cb02780-b983-43d9-a11e-090906c93b1b\")>,\n",
       " <selenium.webdriver.remote.webelement.WebElement (session=\"f5e7894d5ed8e2e6393c251656a2b667\", element=\"d839f78c-344b-4391-a334-c940c5a8645d\")>,\n",
       " <selenium.webdriver.remote.webelement.WebElement (session=\"f5e7894d5ed8e2e6393c251656a2b667\", element=\"15f8c470-0c57-4596-a3b1-d0b5050eef62\")>,\n",
       " <selenium.webdriver.remote.webelement.WebElement (session=\"f5e7894d5ed8e2e6393c251656a2b667\", element=\"528cb7cf-14e2-4c7c-a6f4-6bcfb4619de4\")>,\n",
       " <selenium.webdriver.remote.webelement.WebElement (session=\"f5e7894d5ed8e2e6393c251656a2b667\", element=\"a9ac5cc5-133b-4c7a-832e-95014d60df3a\")>,\n",
       " <selenium.webdriver.remote.webelement.WebElement (session=\"f5e7894d5ed8e2e6393c251656a2b667\", element=\"c408729f-7002-46e8-8e76-3a95d31fe4cb\")>,\n",
       " <selenium.webdriver.remote.webelement.WebElement (session=\"f5e7894d5ed8e2e6393c251656a2b667\", element=\"b95496f3-c147-4f81-8391-062959ef0499\")>,\n",
       " <selenium.webdriver.remote.webelement.WebElement (session=\"f5e7894d5ed8e2e6393c251656a2b667\", element=\"98d373b9-bb88-4c03-95b3-569fad8bc291\")>,\n",
       " <selenium.webdriver.remote.webelement.WebElement (session=\"f5e7894d5ed8e2e6393c251656a2b667\", element=\"c8f20aaa-2b8b-4ee8-9721-6c8d151dade8\")>,\n",
       " <selenium.webdriver.remote.webelement.WebElement (session=\"f5e7894d5ed8e2e6393c251656a2b667\", element=\"ac805a25-1f58-48db-b426-9b3306cb4c0f\")>,\n",
       " <selenium.webdriver.remote.webelement.WebElement (session=\"f5e7894d5ed8e2e6393c251656a2b667\", element=\"29de3ac3-577b-4c52-83c3-1539f76f2b66\")>,\n",
       " <selenium.webdriver.remote.webelement.WebElement (session=\"f5e7894d5ed8e2e6393c251656a2b667\", element=\"c66ad2b6-9c65-4a63-a7ea-c193a84f1de2\")>,\n",
       " <selenium.webdriver.remote.webelement.WebElement (session=\"f5e7894d5ed8e2e6393c251656a2b667\", element=\"b0cb06aa-fd2b-4880-a67f-5d99c818c3ad\")>,\n",
       " <selenium.webdriver.remote.webelement.WebElement (session=\"f5e7894d5ed8e2e6393c251656a2b667\", element=\"d212de59-80a7-41e4-9ad2-ceebd39a7a39\")>,\n",
       " <selenium.webdriver.remote.webelement.WebElement (session=\"f5e7894d5ed8e2e6393c251656a2b667\", element=\"b6772dfb-f180-498b-bc77-88dd7ab32f84\")>,\n",
       " <selenium.webdriver.remote.webelement.WebElement (session=\"f5e7894d5ed8e2e6393c251656a2b667\", element=\"27795e23-2e07-433b-807b-34c3dff5deda\")>,\n",
       " <selenium.webdriver.remote.webelement.WebElement (session=\"f5e7894d5ed8e2e6393c251656a2b667\", element=\"7546f61b-a152-494f-a6b8-9193b9f27cb7\")>,\n",
       " <selenium.webdriver.remote.webelement.WebElement (session=\"f5e7894d5ed8e2e6393c251656a2b667\", element=\"c37aa4c1-997e-47ed-b4c1-7abc6097cb7f\")>,\n",
       " <selenium.webdriver.remote.webelement.WebElement (session=\"f5e7894d5ed8e2e6393c251656a2b667\", element=\"b20d7896-fe7a-41ab-970b-9266a2cd8dcd\")>,\n",
       " <selenium.webdriver.remote.webelement.WebElement (session=\"f5e7894d5ed8e2e6393c251656a2b667\", element=\"9f078a3a-bdd5-4aa1-bae6-d5a6689f5c15\")>,\n",
       " <selenium.webdriver.remote.webelement.WebElement (session=\"f5e7894d5ed8e2e6393c251656a2b667\", element=\"42182a91-5e26-4432-8b7f-6a67a049aa9d\")>,\n",
       " <selenium.webdriver.remote.webelement.WebElement (session=\"f5e7894d5ed8e2e6393c251656a2b667\", element=\"2561c633-dabb-4009-8825-759a469e6d8b\")>,\n",
       " <selenium.webdriver.remote.webelement.WebElement (session=\"f5e7894d5ed8e2e6393c251656a2b667\", element=\"4fdee294-586a-4458-b1e4-acfbb5b1ab9c\")>,\n",
       " <selenium.webdriver.remote.webelement.WebElement (session=\"f5e7894d5ed8e2e6393c251656a2b667\", element=\"a81305ff-5c7d-4a13-920e-7f777159a806\")>,\n",
       " <selenium.webdriver.remote.webelement.WebElement (session=\"f5e7894d5ed8e2e6393c251656a2b667\", element=\"0a186dcd-3887-4cda-baf4-568fb979459b\")>,\n",
       " <selenium.webdriver.remote.webelement.WebElement (session=\"f5e7894d5ed8e2e6393c251656a2b667\", element=\"4a30fb34-7900-480b-a617-aa5daeec142c\")>,\n",
       " <selenium.webdriver.remote.webelement.WebElement (session=\"f5e7894d5ed8e2e6393c251656a2b667\", element=\"7be0de36-c4f0-43dd-96be-09a13382ebdf\")>,\n",
       " <selenium.webdriver.remote.webelement.WebElement (session=\"f5e7894d5ed8e2e6393c251656a2b667\", element=\"57de6752-5bfc-4a2b-befa-08d5b35da9d2\")>,\n",
       " <selenium.webdriver.remote.webelement.WebElement (session=\"f5e7894d5ed8e2e6393c251656a2b667\", element=\"0e3e0dad-8273-4fd6-b3d7-a17fcd6b3235\")>,\n",
       " <selenium.webdriver.remote.webelement.WebElement (session=\"f5e7894d5ed8e2e6393c251656a2b667\", element=\"2283790d-b39c-4d21-93f1-a6e381e41343\")>,\n",
       " <selenium.webdriver.remote.webelement.WebElement (session=\"f5e7894d5ed8e2e6393c251656a2b667\", element=\"f520fe13-0349-4b95-8fd2-ec43fabeb4df\")>,\n",
       " <selenium.webdriver.remote.webelement.WebElement (session=\"f5e7894d5ed8e2e6393c251656a2b667\", element=\"5b329a89-e3a4-4ee1-b05e-0365f2caffc5\")>,\n",
       " <selenium.webdriver.remote.webelement.WebElement (session=\"f5e7894d5ed8e2e6393c251656a2b667\", element=\"e80034d2-8b6b-4e68-94c1-3ddf47dc5461\")>,\n",
       " <selenium.webdriver.remote.webelement.WebElement (session=\"f5e7894d5ed8e2e6393c251656a2b667\", element=\"39178e54-7610-462f-9a1c-62c479e30bb9\")>,\n",
       " <selenium.webdriver.remote.webelement.WebElement (session=\"f5e7894d5ed8e2e6393c251656a2b667\", element=\"ede6baa5-3b4a-4fb7-b7f2-6fe6e6da1578\")>,\n",
       " <selenium.webdriver.remote.webelement.WebElement (session=\"f5e7894d5ed8e2e6393c251656a2b667\", element=\"2ee2a2fb-aef8-4cc5-8aac-01999be353cd\")>,\n",
       " <selenium.webdriver.remote.webelement.WebElement (session=\"f5e7894d5ed8e2e6393c251656a2b667\", element=\"36941a4d-800a-4d9d-9f4f-42461da35500\")>,\n",
       " <selenium.webdriver.remote.webelement.WebElement (session=\"f5e7894d5ed8e2e6393c251656a2b667\", element=\"785b962f-49cd-4d69-81b0-b32c1763301f\")>,\n",
       " <selenium.webdriver.remote.webelement.WebElement (session=\"f5e7894d5ed8e2e6393c251656a2b667\", element=\"732934b5-97cb-4cc0-b029-16bbb8da3130\")>,\n",
       " <selenium.webdriver.remote.webelement.WebElement (session=\"f5e7894d5ed8e2e6393c251656a2b667\", element=\"6ade4ca0-7a8a-4e4b-9ad1-e2f742bac1ec\")>,\n",
       " <selenium.webdriver.remote.webelement.WebElement (session=\"f5e7894d5ed8e2e6393c251656a2b667\", element=\"a3239e59-01c4-451a-a6cc-4bc7f75dc095\")>,\n",
       " <selenium.webdriver.remote.webelement.WebElement (session=\"f5e7894d5ed8e2e6393c251656a2b667\", element=\"12d42159-8bf1-4dc5-ad8d-8e8a70998a7e\")>,\n",
       " <selenium.webdriver.remote.webelement.WebElement (session=\"f5e7894d5ed8e2e6393c251656a2b667\", element=\"4975b3d9-c6c9-4e96-8ff7-ca0fea6244b7\")>,\n",
       " <selenium.webdriver.remote.webelement.WebElement (session=\"f5e7894d5ed8e2e6393c251656a2b667\", element=\"79f12087-65c5-443d-be42-503f8ee3b426\")>,\n",
       " <selenium.webdriver.remote.webelement.WebElement (session=\"f5e7894d5ed8e2e6393c251656a2b667\", element=\"ee721180-f3b8-4f34-8fbc-45746a1a6dc7\")>,\n",
       " <selenium.webdriver.remote.webelement.WebElement (session=\"f5e7894d5ed8e2e6393c251656a2b667\", element=\"04f43cc7-d9b2-4353-884c-e08ae990aa6b\")>,\n",
       " <selenium.webdriver.remote.webelement.WebElement (session=\"f5e7894d5ed8e2e6393c251656a2b667\", element=\"e885e61b-578b-4228-a8f8-f15127ad3a8a\")>,\n",
       " <selenium.webdriver.remote.webelement.WebElement (session=\"f5e7894d5ed8e2e6393c251656a2b667\", element=\"e56690c4-6c4e-49e5-9a2d-382f157c192d\")>,\n",
       " <selenium.webdriver.remote.webelement.WebElement (session=\"f5e7894d5ed8e2e6393c251656a2b667\", element=\"152fe3ed-0d5e-4c59-b4ca-7ec5e2f5c09e\")>,\n",
       " <selenium.webdriver.remote.webelement.WebElement (session=\"f5e7894d5ed8e2e6393c251656a2b667\", element=\"71a5e231-614c-41d4-8d5f-2e80b9a7d960\")>,\n",
       " <selenium.webdriver.remote.webelement.WebElement (session=\"f5e7894d5ed8e2e6393c251656a2b667\", element=\"d73980f1-7282-42d9-8d32-5a9580cd2eb6\")>,\n",
       " <selenium.webdriver.remote.webelement.WebElement (session=\"f5e7894d5ed8e2e6393c251656a2b667\", element=\"c832a0e9-7b14-4e24-9f9a-67475c868e19\")>,\n",
       " <selenium.webdriver.remote.webelement.WebElement (session=\"f5e7894d5ed8e2e6393c251656a2b667\", element=\"f391aeb0-3e3e-4d98-a860-5cbbdeedd4d5\")>,\n",
       " <selenium.webdriver.remote.webelement.WebElement (session=\"f5e7894d5ed8e2e6393c251656a2b667\", element=\"a8869ccb-20be-4916-9a7c-1352721ce6bf\")>,\n",
       " <selenium.webdriver.remote.webelement.WebElement (session=\"f5e7894d5ed8e2e6393c251656a2b667\", element=\"947efe7e-25f7-4890-9f52-9b0a84f7be83\")>,\n",
       " <selenium.webdriver.remote.webelement.WebElement (session=\"f5e7894d5ed8e2e6393c251656a2b667\", element=\"2b069e0b-4cd5-4ea4-a0ec-721199799a44\")>,\n",
       " <selenium.webdriver.remote.webelement.WebElement (session=\"f5e7894d5ed8e2e6393c251656a2b667\", element=\"2b80e472-f14f-41f6-9aad-7c2f336fac7f\")>,\n",
       " <selenium.webdriver.remote.webelement.WebElement (session=\"f5e7894d5ed8e2e6393c251656a2b667\", element=\"0118cf7e-9dfd-4522-a2bb-73d61512ec98\")>,\n",
       " <selenium.webdriver.remote.webelement.WebElement (session=\"f5e7894d5ed8e2e6393c251656a2b667\", element=\"8373c95e-68db-4693-8296-fc3557006459\")>,\n",
       " <selenium.webdriver.remote.webelement.WebElement (session=\"f5e7894d5ed8e2e6393c251656a2b667\", element=\"6a69e7f1-92f2-439e-b00d-10ccd8e3d973\")>,\n",
       " <selenium.webdriver.remote.webelement.WebElement (session=\"f5e7894d5ed8e2e6393c251656a2b667\", element=\"473cc508-5af4-40f9-9cb8-5e0cd4c39975\")>,\n",
       " <selenium.webdriver.remote.webelement.WebElement (session=\"f5e7894d5ed8e2e6393c251656a2b667\", element=\"fa7639a8-d747-4d93-9309-dde7bb21a50a\")>,\n",
       " <selenium.webdriver.remote.webelement.WebElement (session=\"f5e7894d5ed8e2e6393c251656a2b667\", element=\"6c67ee61-386d-4748-8d23-4c67c4285bc2\")>,\n",
       " <selenium.webdriver.remote.webelement.WebElement (session=\"f5e7894d5ed8e2e6393c251656a2b667\", element=\"a2846074-7a23-4c5c-a735-b6ac86ad87a5\")>,\n",
       " <selenium.webdriver.remote.webelement.WebElement (session=\"f5e7894d5ed8e2e6393c251656a2b667\", element=\"127ddf67-8ecc-4250-a3bb-b5186338ee9f\")>,\n",
       " <selenium.webdriver.remote.webelement.WebElement (session=\"f5e7894d5ed8e2e6393c251656a2b667\", element=\"30dacdda-9e0a-446d-bf8a-71b1e657e86b\")>,\n",
       " <selenium.webdriver.remote.webelement.WebElement (session=\"f5e7894d5ed8e2e6393c251656a2b667\", element=\"d0a86977-5bf3-47e8-a870-9e87ed7ddc63\")>,\n",
       " <selenium.webdriver.remote.webelement.WebElement (session=\"f5e7894d5ed8e2e6393c251656a2b667\", element=\"03534156-8b44-42ae-8204-19eebb4a3eb3\")>,\n",
       " <selenium.webdriver.remote.webelement.WebElement (session=\"f5e7894d5ed8e2e6393c251656a2b667\", element=\"0212ee47-2618-40b3-983f-83bb48864279\")>,\n",
       " <selenium.webdriver.remote.webelement.WebElement (session=\"f5e7894d5ed8e2e6393c251656a2b667\", element=\"43860464-446d-4dd8-968f-9237a0b958da\")>,\n",
       " <selenium.webdriver.remote.webelement.WebElement (session=\"f5e7894d5ed8e2e6393c251656a2b667\", element=\"914dd941-1806-4269-8b04-c79c1d615d33\")>,\n",
       " <selenium.webdriver.remote.webelement.WebElement (session=\"f5e7894d5ed8e2e6393c251656a2b667\", element=\"b39bc660-a0df-41d6-8f3e-5a9ce3f684e9\")>,\n",
       " <selenium.webdriver.remote.webelement.WebElement (session=\"f5e7894d5ed8e2e6393c251656a2b667\", element=\"9a4ad026-441a-4ae1-a304-d6e8832806a6\")>,\n",
       " <selenium.webdriver.remote.webelement.WebElement (session=\"f5e7894d5ed8e2e6393c251656a2b667\", element=\"041a2866-81db-4ecb-96a6-d35f0d34503b\")>,\n",
       " <selenium.webdriver.remote.webelement.WebElement (session=\"f5e7894d5ed8e2e6393c251656a2b667\", element=\"29defcb0-1f7b-4bae-856b-41f13a799f94\")>,\n",
       " <selenium.webdriver.remote.webelement.WebElement (session=\"f5e7894d5ed8e2e6393c251656a2b667\", element=\"ced7e2da-38c2-4121-88fc-071d44112489\")>,\n",
       " <selenium.webdriver.remote.webelement.WebElement (session=\"f5e7894d5ed8e2e6393c251656a2b667\", element=\"ea8f46ab-5a74-4c79-b45d-e9659a43be17\")>,\n",
       " <selenium.webdriver.remote.webelement.WebElement (session=\"f5e7894d5ed8e2e6393c251656a2b667\", element=\"3c008088-f07a-4138-8069-c94529985c7a\")>,\n",
       " <selenium.webdriver.remote.webelement.WebElement (session=\"f5e7894d5ed8e2e6393c251656a2b667\", element=\"bd574f66-7ad3-4709-a6db-bf597be4b29e\")>,\n",
       " <selenium.webdriver.remote.webelement.WebElement (session=\"f5e7894d5ed8e2e6393c251656a2b667\", element=\"394b6ee6-253b-4404-90fa-1199f1e97b98\")>,\n",
       " <selenium.webdriver.remote.webelement.WebElement (session=\"f5e7894d5ed8e2e6393c251656a2b667\", element=\"3c40538c-bc00-4c73-9239-5898f79123e1\")>,\n",
       " <selenium.webdriver.remote.webelement.WebElement (session=\"f5e7894d5ed8e2e6393c251656a2b667\", element=\"94fee5e1-ba30-4175-9215-66916fa786c3\")>,\n",
       " <selenium.webdriver.remote.webelement.WebElement (session=\"f5e7894d5ed8e2e6393c251656a2b667\", element=\"e35296c0-f30d-406b-b3ed-c941316c454d\")>,\n",
       " <selenium.webdriver.remote.webelement.WebElement (session=\"f5e7894d5ed8e2e6393c251656a2b667\", element=\"de409e43-23fb-4872-bd41-808948be3237\")>,\n",
       " <selenium.webdriver.remote.webelement.WebElement (session=\"f5e7894d5ed8e2e6393c251656a2b667\", element=\"b0cf69d5-45b6-4c8e-bc41-b4bc23924aad\")>,\n",
       " <selenium.webdriver.remote.webelement.WebElement (session=\"f5e7894d5ed8e2e6393c251656a2b667\", element=\"746cb167-564f-4fa6-8af3-90041274ad50\")>,\n",
       " <selenium.webdriver.remote.webelement.WebElement (session=\"f5e7894d5ed8e2e6393c251656a2b667\", element=\"6e450039-c815-4faa-aedf-9a676a00f516\")>,\n",
       " <selenium.webdriver.remote.webelement.WebElement (session=\"f5e7894d5ed8e2e6393c251656a2b667\", element=\"235840f6-855d-4e14-af14-7a71291b9d07\")>,\n",
       " <selenium.webdriver.remote.webelement.WebElement (session=\"f5e7894d5ed8e2e6393c251656a2b667\", element=\"89949878-24af-4530-adb6-061c774e40b4\")>,\n",
       " <selenium.webdriver.remote.webelement.WebElement (session=\"f5e7894d5ed8e2e6393c251656a2b667\", element=\"3a70f1b9-0fbd-4216-a784-b46c3cd4b133\")>,\n",
       " <selenium.webdriver.remote.webelement.WebElement (session=\"f5e7894d5ed8e2e6393c251656a2b667\", element=\"de84b779-bd4b-4854-ab80-973d27d69d30\")>,\n",
       " <selenium.webdriver.remote.webelement.WebElement (session=\"f5e7894d5ed8e2e6393c251656a2b667\", element=\"41e1e4c3-dbbe-4a13-b89b-621118d31d48\")>,\n",
       " <selenium.webdriver.remote.webelement.WebElement (session=\"f5e7894d5ed8e2e6393c251656a2b667\", element=\"e8d3f251-5436-4f25-8543-efaabb72d7a6\")>,\n",
       " <selenium.webdriver.remote.webelement.WebElement (session=\"f5e7894d5ed8e2e6393c251656a2b667\", element=\"05fdfd51-80ae-4266-a18b-f04b9c1c0c32\")>,\n",
       " <selenium.webdriver.remote.webelement.WebElement (session=\"f5e7894d5ed8e2e6393c251656a2b667\", element=\"beda14c4-5763-44b8-b764-ee5e2fb560fa\")>,\n",
       " <selenium.webdriver.remote.webelement.WebElement (session=\"f5e7894d5ed8e2e6393c251656a2b667\", element=\"68c9da40-e740-40e4-b55e-48a22eb28feb\")>,\n",
       " <selenium.webdriver.remote.webelement.WebElement (session=\"f5e7894d5ed8e2e6393c251656a2b667\", element=\"9d09426e-da8e-441a-a823-0fe8899e6d4e\")>,\n",
       " <selenium.webdriver.remote.webelement.WebElement (session=\"f5e7894d5ed8e2e6393c251656a2b667\", element=\"e459867d-15f9-447a-bb55-4d0c43d89759\")>,\n",
       " <selenium.webdriver.remote.webelement.WebElement (session=\"f5e7894d5ed8e2e6393c251656a2b667\", element=\"9329a262-fdce-4045-b255-e43274a5608c\")>,\n",
       " <selenium.webdriver.remote.webelement.WebElement (session=\"f5e7894d5ed8e2e6393c251656a2b667\", element=\"af16c319-9fac-4671-a26d-4b46b8a91aac\")>]"
      ]
     },
     "execution_count": 60,
     "metadata": {},
     "output_type": "execute_result"
    }
   ],
   "source": [
    "search_content.find_elements_by_tag_name('li')"
   ]
  }
 ],
 "metadata": {
  "kernelspec": {
   "display_name": "Python 3",
   "language": "python",
   "name": "python3"
  },
  "language_info": {
   "codemirror_mode": {
    "name": "ipython",
    "version": 3
   },
   "file_extension": ".py",
   "mimetype": "text/x-python",
   "name": "python",
   "nbconvert_exporter": "python",
   "pygments_lexer": "ipython3",
   "version": "3.6.8"
  }
 },
 "nbformat": 4,
 "nbformat_minor": 4
}
