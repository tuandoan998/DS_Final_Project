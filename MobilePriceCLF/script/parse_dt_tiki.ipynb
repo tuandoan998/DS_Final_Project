{
 "cells": [
  {
   "cell_type": "code",
   "execution_count": 1,
   "metadata": {},
   "outputs": [],
   "source": [
    "from requests_html import HTMLSession, HTML\n",
    "import requests\n",
    "import json\n",
    "import time\n",
    "import pandas as pd\n",
    "import datetime as dt\n",
    "import re\n",
    "from selenium import webdriver\n",
    "from selenium.webdriver.common.keys import Keys\n",
    "from selenium.common.exceptions import ElementClickInterceptedException, NoSuchElementException\n",
    "import urllib.robotparser"
   ]
  },
  {
   "cell_type": "code",
   "execution_count": 2,
   "metadata": {},
   "outputs": [
    {
     "data": {
      "text/plain": [
       "True"
      ]
     },
     "execution_count": 2,
     "metadata": {},
     "output_type": "execute_result"
    }
   ],
   "source": [
    "# can fetch\n",
    "url = 'https://tiki.vn/dien-thoai-smartphone/c1795?_lc=Vk4wMzkwMjIwMDk%3D'\n",
    "rp = urllib.robotparser.RobotFileParser()\n",
    "rp.set_url('https://tiki.vn/robots.txt')\n",
    "rp.read()\n",
    "rp.can_fetch('*',url)"
   ]
  },
  {
   "cell_type": "code",
   "execution_count": 3,
   "metadata": {},
   "outputs": [],
   "source": [
    "session = HTMLSession()\n",
    "r = session.get(url)"
   ]
  },
  {
   "cell_type": "code",
   "execution_count": 4,
   "metadata": {},
   "outputs": [
    {
     "data": {
      "text/plain": [
       "['https://tiki.vn/dien-thoai-smartphone/c1795?_lc=Vk4wMzkwMjIwMDk%3D',\n",
       " 'https://tiki.vn/dien-thoai-smartphone/c1795?_lc=Vk4wMzkwMjIwMDk%3D&page=2',\n",
       " 'https://tiki.vn/dien-thoai-smartphone/c1795?_lc=Vk4wMzkwMjIwMDk%3D&page=3',\n",
       " 'https://tiki.vn/dien-thoai-smartphone/c1795?_lc=Vk4wMzkwMjIwMDk%3D&page=4',\n",
       " 'https://tiki.vn/dien-thoai-smartphone/c1795?_lc=Vk4wMzkwMjIwMDk%3D&page=5',\n",
       " 'https://tiki.vn/dien-thoai-smartphone/c1795?_lc=Vk4wMzkwMjIwMDk%3D&page=2']"
      ]
     },
     "execution_count": 4,
     "metadata": {},
     "output_type": "execute_result"
    }
   ],
   "source": [
    "# get pagination url\n",
    "\n",
    "findable_html = r.html\n",
    "pages = findable_html.find('.list-pager', first=True).find('ul li a')\n",
    "pages_url = [url]\n",
    "for page in pages:\n",
    "    pages_url.append('https://tiki.vn'+page.attrs['href'])\n",
    "\n",
    "pages_url"
   ]
  },
  {
   "cell_type": "code",
   "execution_count": 5,
   "metadata": {},
   "outputs": [],
   "source": [
    "def create_line(column_titles):\n",
    "    res = f''\n",
    "    for title in column_titles:\n",
    "        res += '{'+title+'}'+'\\t'\n",
    "        \n",
    "    return res"
   ]
  },
  {
   "cell_type": "code",
   "execution_count": 9,
   "metadata": {},
   "outputs": [
    {
     "name": "stdout",
     "output_type": "stream",
     "text": [
      "after page 0: total 48 items\n",
      "after page 1: total 96 items\n",
      "after page 2: total 144 items\n",
      "after page 3: total 192 items\n",
      "after page 4: total 240 items\n",
      "after page 5: total 288 items\n"
     ]
    }
   ],
   "source": [
    "cnt = 0\n",
    "cnt_fail = 0\n",
    "f = open('../dataset/tiki.csv', 'w', encoding='utf-8')\n",
    "f.write(f'url\\ttitle\\tprovider\\tmonitor\\tos\\tfront_cam\\tback_cam\\tcpu\\tram\\trom\\tSD\\tSIM\\tbattery\\tprice\\n')\n",
    "\n",
    "\n",
    "for i, page_url in enumerate(pages_url):\n",
    "    r = session.get(page_url)\n",
    "    product_list = r.html.find('.product-box-list div a')\n",
    "    \n",
    "    for product in product_list:\n",
    "        title = product.attrs['title']\n",
    "        product_url = product.attrs['href']\n",
    "\n",
    "        r = session.get(product_url)\n",
    "        price = r.html.find('#span-price', first=True).text\n",
    "        provider = r.html.find('.item-brand p a', first=True).text\n",
    "\n",
    "        specifications = r.html.find('.top-feature-item p')\n",
    "\n",
    "        specifications_name = ['product_url','title','provider','monitor','os','front_cam', \n",
    "                               'back_cam', 'cpu', 'ram', 'rom', 'SD', 'SIM', 'battery']\n",
    "\n",
    "\n",
    "        #url,title,provider,monitor,os,front_cam,back_cam,cpu,ram,rom,SD,SIM,battery=specifications[0]\n",
    "\n",
    "        monitor = ''\n",
    "        os = ''\n",
    "        front_cam = ''\n",
    "        back_cam = ''\n",
    "        cpu = ''\n",
    "        ram = ''\n",
    "        rom = ''\n",
    "        SD = ''\n",
    "        SIM = ''\n",
    "        battery = ''\n",
    "        for specification in specifications:\n",
    "            _text = specification.text.lower()\n",
    "            if _text.find('màn hình') != -1:\n",
    "                monitor += specification.text + ' '\n",
    "                \n",
    "            if _text.find('điều hành') != -1:\n",
    "                os += specification.text + ' '\n",
    "                \n",
    "            if _text.find('camera trước') != -1:\n",
    "                front_cam += specification.text + ' '\n",
    "                \n",
    "            if _text.find('camera sau') != -1:\n",
    "                back_cam += specification.text + ' '\n",
    "                \n",
    "            if _text.find('chip') != -1 or _text.find('cpu') != -1:\n",
    "                cpu += specification.text + ' '\n",
    "                \n",
    "            if _text.find('ram') != -1:\n",
    "                ram += specification.text + ' '\n",
    "                \n",
    "            if _text.find('bộ nhớ') != -1:\n",
    "                rom += specification.text + ' '\n",
    "                \n",
    "            if _text.find('sd') != -1:\n",
    "                SD += specification.text + ' '\n",
    "            \n",
    "            if _text.find('sim') != -1:\n",
    "                SIM += specification.text + ' '\n",
    "                \n",
    "            if _text.find('pin') != -1 or _text.find('mah') != -1:\n",
    "                battery += specification.text + ' '\n",
    "\n",
    "        \n",
    "        f.write(f'{product_url}\\t{title}\\t{provider}\\t{monitor}\\t{os}\\t{front_cam}\\t{back_cam}\\t{cpu}\\t{ram}\\t{rom}\\t{SD}\\t{SIM}\\t{battery}\\t{price}\\n')\n",
    "        cnt+=1 \n",
    "        \n",
    "    \n",
    "    print('after page {}: total {} items'.format(i, cnt))\n",
    "    \n",
    "\n",
    "f.close()"
   ]
  }
 ],
 "metadata": {
  "kernelspec": {
   "display_name": "Python 3",
   "language": "python",
   "name": "python3"
  },
  "language_info": {
   "codemirror_mode": {
    "name": "ipython",
    "version": 3
   },
   "file_extension": ".py",
   "mimetype": "text/x-python",
   "name": "python",
   "nbconvert_exporter": "python",
   "pygments_lexer": "ipython3",
   "version": "3.7.3"
  }
 },
 "nbformat": 4,
 "nbformat_minor": 4
}
