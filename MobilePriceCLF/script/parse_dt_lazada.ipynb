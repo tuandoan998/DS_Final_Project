{
 "cells": [
  {
   "cell_type": "code",
   "execution_count": 1,
   "metadata": {},
   "outputs": [],
   "source": [
    "from requests_html import HTMLSession, HTML\n",
    "import requests\n",
    "import json\n",
    "import time\n",
    "import pandas as pd\n",
    "import datetime as dt\n",
    "import re\n",
    "from selenium import webdriver\n",
    "from selenium.webdriver.common.keys import Keys\n",
    "from selenium.common.exceptions import ElementClickInterceptedException, NoSuchElementException\n",
    "import urllib.robotparser"
   ]
  },
  {
   "cell_type": "code",
   "execution_count": 3,
   "metadata": {},
   "outputs": [
    {
     "data": {
      "text/plain": [
       "True"
      ]
     },
     "execution_count": 3,
     "metadata": {},
     "output_type": "execute_result"
    }
   ],
   "source": [
    "# can fetch\n",
    "url = 'https://www.lazada.vn/dien-thoai-di-dong/'\n",
    "rp = urllib.robotparser.RobotFileParser()\n",
    "rp.set_url('https://lazada.vn/robots.txt')\n",
    "rp.read()\n",
    "rp.can_fetch('*',url)"
   ]
  },
  {
   "cell_type": "code",
   "execution_count": 6,
   "metadata": {},
   "outputs": [
    {
     "data": {
      "text/plain": [
       "['https://www.lazada.vn/dien-thoai-di-dong/?spm=a2o4n.searchlistcategory.0.0.e1822d19bwNR5F&page=0',\n",
       " 'https://www.lazada.vn/dien-thoai-di-dong/?spm=a2o4n.searchlistcategory.0.0.e1822d19bwNR5F&page=1',\n",
       " 'https://www.lazada.vn/dien-thoai-di-dong/?spm=a2o4n.searchlistcategory.0.0.e1822d19bwNR5F&page=2',\n",
       " 'https://www.lazada.vn/dien-thoai-di-dong/?spm=a2o4n.searchlistcategory.0.0.e1822d19bwNR5F&page=3',\n",
       " 'https://www.lazada.vn/dien-thoai-di-dong/?spm=a2o4n.searchlistcategory.0.0.e1822d19bwNR5F&page=4',\n",
       " 'https://www.lazada.vn/dien-thoai-di-dong/?spm=a2o4n.searchlistcategory.0.0.e1822d19bwNR5F&page=5',\n",
       " 'https://www.lazada.vn/dien-thoai-di-dong/?spm=a2o4n.searchlistcategory.0.0.e1822d19bwNR5F&page=6',\n",
       " 'https://www.lazada.vn/dien-thoai-di-dong/?spm=a2o4n.searchlistcategory.0.0.e1822d19bwNR5F&page=7',\n",
       " 'https://www.lazada.vn/dien-thoai-di-dong/?spm=a2o4n.searchlistcategory.0.0.e1822d19bwNR5F&page=8',\n",
       " 'https://www.lazada.vn/dien-thoai-di-dong/?spm=a2o4n.searchlistcategory.0.0.e1822d19bwNR5F&page=9']"
      ]
     },
     "execution_count": 6,
     "metadata": {},
     "output_type": "execute_result"
    }
   ],
   "source": [
    "# get pagination url\n",
    "base_url = 'https://www.lazada.vn/dien-thoai-di-dong/?spm=a2o4n.searchlistcategory.0.0.e1822d19bwNR5F&page='\n",
    "pages_url = []\n",
    "for page in range(10):\n",
    "    pages_url.append(base_url+str(page))\n",
    "\n",
    "pages_url"
   ]
  },
  {
   "cell_type": "code",
   "execution_count": 10,
   "metadata": {},
   "outputs": [
    {
     "name": "stdout",
     "output_type": "stream",
     "text": [
      "https://www.lazada.vn/dien-thoai-di-dong/?spm=a2o4n.searchlistcategory.0.0.e1822d19bwNR5F&page=0\n",
      "[]\n",
      "after page 0: total 0 items\n",
      "https://www.lazada.vn/dien-thoai-di-dong/?spm=a2o4n.searchlistcategory.0.0.e1822d19bwNR5F&page=1\n",
      "[]\n",
      "after page 1: total 0 items\n",
      "https://www.lazada.vn/dien-thoai-di-dong/?spm=a2o4n.searchlistcategory.0.0.e1822d19bwNR5F&page=2\n",
      "[]\n",
      "after page 2: total 0 items\n",
      "https://www.lazada.vn/dien-thoai-di-dong/?spm=a2o4n.searchlistcategory.0.0.e1822d19bwNR5F&page=3\n",
      "[]\n",
      "after page 3: total 0 items\n",
      "https://www.lazada.vn/dien-thoai-di-dong/?spm=a2o4n.searchlistcategory.0.0.e1822d19bwNR5F&page=4\n",
      "[]\n",
      "after page 4: total 0 items\n",
      "https://www.lazada.vn/dien-thoai-di-dong/?spm=a2o4n.searchlistcategory.0.0.e1822d19bwNR5F&page=5\n",
      "[]\n",
      "after page 5: total 0 items\n",
      "https://www.lazada.vn/dien-thoai-di-dong/?spm=a2o4n.searchlistcategory.0.0.e1822d19bwNR5F&page=6\n",
      "[]\n",
      "after page 6: total 0 items\n",
      "https://www.lazada.vn/dien-thoai-di-dong/?spm=a2o4n.searchlistcategory.0.0.e1822d19bwNR5F&page=7\n",
      "[]\n",
      "after page 7: total 0 items\n",
      "https://www.lazada.vn/dien-thoai-di-dong/?spm=a2o4n.searchlistcategory.0.0.e1822d19bwNR5F&page=8\n",
      "[]\n",
      "after page 8: total 0 items\n",
      "https://www.lazada.vn/dien-thoai-di-dong/?spm=a2o4n.searchlistcategory.0.0.e1822d19bwNR5F&page=9\n",
      "[]\n",
      "after page 9: total 0 items\n"
     ]
    },
    {
     "ename": "NameError",
     "evalue": "name 'f' is not defined",
     "output_type": "error",
     "traceback": [
      "\u001b[0;31m---------------------------------------------------------------------------\u001b[0m",
      "\u001b[0;31mNameError\u001b[0m                                 Traceback (most recent call last)",
      "\u001b[0;32m<ipython-input-10-279c4f2024eb>\u001b[0m in \u001b[0;36m<module>\u001b[0;34m\u001b[0m\n\u001b[1;32m     78\u001b[0m \u001b[0;34m\u001b[0m\u001b[0m\n\u001b[1;32m     79\u001b[0m \u001b[0;34m\u001b[0m\u001b[0m\n\u001b[0;32m---> 80\u001b[0;31m \u001b[0mf\u001b[0m\u001b[0;34m.\u001b[0m\u001b[0mclose\u001b[0m\u001b[0;34m(\u001b[0m\u001b[0;34m)\u001b[0m\u001b[0;34m\u001b[0m\u001b[0;34m\u001b[0m\u001b[0m\n\u001b[0m",
      "\u001b[0;31mNameError\u001b[0m: name 'f' is not defined"
     ]
    }
   ],
   "source": [
    "session = HTMLSession()\n",
    "cnt = 0\n",
    "#f = open('../dataset/lazada.csv', 'w', encoding='utf-8')\n",
    "#f.write(f'url\\ttitle\\tprovider\\tmonitor\\tos\\tfront_cam\\tback_cam\\tcpu\\tram\\trom\\tSD\\tSIM\\tbattery\\n')\n",
    "\n",
    "\n",
    "for i, page_url in enumerate(pages_url):\n",
    "    r = session.get(page_url)\n",
    "    print(page_url)\n",
    "    product_list = r.html.find('.c16H9d')\n",
    "    print(product_list)\n",
    "    \n",
    "    for product in product_list:\n",
    "        title = ''\n",
    "        product_url = product.attrs['href']\n",
    "        print(product_url)\n",
    "\n",
    "        r = session.get(product_url)\n",
    "\n",
    "        provider = r.html.find('.item-brand p a', first=True).text\n",
    "\n",
    "        specifications = r.html.find('.top-feature-item p')\n",
    "\n",
    "        specifications_name = ['product_url','title','provider','monitor','os','front_cam', \n",
    "                               'back_cam', 'cpu', 'ram', 'rom', 'SD', 'SIM', 'battery']\n",
    "\n",
    "\n",
    "        #url,title,provider,monitor,os,front_cam,back_cam,cpu,ram,rom,SD,SIM,battery=specifications[0]\n",
    "\n",
    "        monitor = ''\n",
    "        os = ''\n",
    "        front_cam = ''\n",
    "        back_cam = ''\n",
    "        cpu = ''\n",
    "        ram = ''\n",
    "        rom = ''\n",
    "        SD = ''\n",
    "        SIM = ''\n",
    "        battery = ''\n",
    "        for specification in specifications:\n",
    "            _text = specification.text.lower()\n",
    "            if _text.find('màn hình') != -1:\n",
    "                monitor += specification.text + ' '\n",
    "                \n",
    "            if _text.find('điều hành') != -1:\n",
    "                os += specification.text + ' '\n",
    "                \n",
    "            if _text.find('camera trước') != -1:\n",
    "                front_cam += specification.text + ' '\n",
    "                \n",
    "            if _text.find('camera sau') != -1:\n",
    "                back_cam += specification.text + ' '\n",
    "                \n",
    "            if _text.find('chip') != -1 or _text.find('cpu') != -1:\n",
    "                cpu += specification.text + ' '\n",
    "                \n",
    "            if _text.find('ram') != -1:\n",
    "                ram += specification.text + ' '\n",
    "                \n",
    "            if _text.find('bộ nhớ') != -1:\n",
    "                rom += specification.text + ' '\n",
    "                \n",
    "            if _text.find('sd') != -1:\n",
    "                SD += specification.text + ' '\n",
    "            \n",
    "            if _text.find('sim') != -1:\n",
    "                SIM += specification.text + ' '\n",
    "                \n",
    "            if _text.find('pin') != -1 or _text.find('mah') != -1:\n",
    "                battery += specification.text + ' '\n",
    "\n",
    "        \n",
    "        f.write(f'{product_url}\\t{title}\\t{provider}\\t{monitor}\\t{os}\\t{front_cam}\\t{back_cam}\\t{cpu}\\t{ram}\\t{rom}\\t{SD}\\t{SIM}\\t{battery}\\n')\n",
    "        cnt+=1 \n",
    "        \n",
    "    \n",
    "    print('after page {}: total {} items'.format(i, cnt))\n",
    "    \n",
    "\n",
    "f.close()\n"
   ]
  }
 ],
 "metadata": {
  "kernelspec": {
   "display_name": "Python 3",
   "language": "python",
   "name": "python3"
  },
  "language_info": {
   "codemirror_mode": {
    "name": "ipython",
    "version": 3
   },
   "file_extension": ".py",
   "mimetype": "text/x-python",
   "name": "python",
   "nbconvert_exporter": "python",
   "pygments_lexer": "ipython3",
   "version": "3.7.3"
  }
 },
 "nbformat": 4,
 "nbformat_minor": 4
}
