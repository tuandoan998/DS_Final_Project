{
 "cells": [
  {
   "cell_type": "code",
   "execution_count": 1,
   "metadata": {},
   "outputs": [
    {
     "name": "stdout",
     "output_type": "stream",
     "text": [
      "Requirement already satisfied: newspaper3k in /home/quangminh/anaconda3/lib/python3.7/site-packages (0.2.8)\n",
      "Requirement already satisfied: tldextract>=2.0.1 in /home/quangminh/anaconda3/lib/python3.7/site-packages (from newspaper3k) (2.2.2)\n",
      "Requirement already satisfied: requests>=2.10.0 in /home/quangminh/anaconda3/lib/python3.7/site-packages (from newspaper3k) (2.22.0)\n",
      "Requirement already satisfied: feedparser>=5.2.1 in /home/quangminh/anaconda3/lib/python3.7/site-packages (from newspaper3k) (5.2.1)\n",
      "Requirement already satisfied: tinysegmenter==0.3 in /home/quangminh/anaconda3/lib/python3.7/site-packages (from newspaper3k) (0.3)\n",
      "Requirement already satisfied: python-dateutil>=2.5.3 in /home/quangminh/anaconda3/lib/python3.7/site-packages (from newspaper3k) (2.8.0)\n",
      "Requirement already satisfied: beautifulsoup4>=4.4.1 in /home/quangminh/anaconda3/lib/python3.7/site-packages (from newspaper3k) (4.8.0)\n",
      "Requirement already satisfied: Pillow>=3.3.0 in /home/quangminh/anaconda3/lib/python3.7/site-packages (from newspaper3k) (6.2.0)\n",
      "Requirement already satisfied: feedfinder2>=0.0.4 in /home/quangminh/anaconda3/lib/python3.7/site-packages (from newspaper3k) (0.0.4)\n",
      "Requirement already satisfied: PyYAML>=3.11 in /home/quangminh/anaconda3/lib/python3.7/site-packages (from newspaper3k) (5.1.2)\n",
      "Requirement already satisfied: lxml>=3.6.0 in /home/quangminh/anaconda3/lib/python3.7/site-packages (from newspaper3k) (4.3.0)\n",
      "Requirement already satisfied: nltk>=3.2.1 in /home/quangminh/anaconda3/lib/python3.7/site-packages (from newspaper3k) (3.4.5)\n",
      "Requirement already satisfied: cssselect>=0.9.2 in /home/quangminh/anaconda3/lib/python3.7/site-packages (from newspaper3k) (1.1.0)\n",
      "Requirement already satisfied: jieba3k>=0.35.1 in /home/quangminh/anaconda3/lib/python3.7/site-packages (from newspaper3k) (0.35.1)\n",
      "Requirement already satisfied: requests-file>=1.4 in /home/quangminh/anaconda3/lib/python3.7/site-packages (from tldextract>=2.0.1->newspaper3k) (1.4.3)\n",
      "Requirement already satisfied: setuptools in /home/quangminh/anaconda3/lib/python3.7/site-packages (from tldextract>=2.0.1->newspaper3k) (41.4.0)\n",
      "Requirement already satisfied: idna in /home/quangminh/anaconda3/lib/python3.7/site-packages (from tldextract>=2.0.1->newspaper3k) (2.8)\n",
      "Requirement already satisfied: urllib3!=1.25.0,!=1.25.1,<1.26,>=1.21.1 in /home/quangminh/anaconda3/lib/python3.7/site-packages (from requests>=2.10.0->newspaper3k) (1.24.2)\n",
      "Requirement already satisfied: chardet<3.1.0,>=3.0.2 in /home/quangminh/anaconda3/lib/python3.7/site-packages (from requests>=2.10.0->newspaper3k) (3.0.4)\n",
      "Requirement already satisfied: certifi>=2017.4.17 in /home/quangminh/anaconda3/lib/python3.7/site-packages (from requests>=2.10.0->newspaper3k) (2019.9.11)\n",
      "Requirement already satisfied: six>=1.5 in /home/quangminh/anaconda3/lib/python3.7/site-packages (from python-dateutil>=2.5.3->newspaper3k) (1.12.0)\n",
      "Requirement already satisfied: soupsieve>=1.2 in /home/quangminh/anaconda3/lib/python3.7/site-packages (from beautifulsoup4>=4.4.1->newspaper3k) (1.9.3)\n"
     ]
    }
   ],
   "source": [
    "!pip install newspaper3k"
   ]
  },
  {
   "cell_type": "code",
   "execution_count": 2,
   "metadata": {},
   "outputs": [],
   "source": [
    "from newspaper import Article\n",
    "import json"
   ]
  },
  {
   "cell_type": "code",
   "execution_count": 3,
   "metadata": {},
   "outputs": [],
   "source": [
    "# dump json to dict\n",
    "urls_file = open('../data/urls/vietnamnews_urls.json', 'r')\n",
    "all_urls = json.load(urls_file)\n",
    "urls_file.close()"
   ]
  },
  {
   "cell_type": "code",
   "execution_count": 4,
   "metadata": {},
   "outputs": [],
   "source": [
    "def get_article_raw_feature(article_url):\n",
    "    article = Article(article_url)\n",
    "    article.download()\n",
    "    article.parse()\n",
    "    \n",
    "    return repr(article.text), article.title"
   ]
  },
  {
   "cell_type": "code",
   "execution_count": null,
   "metadata": {},
   "outputs": [
    {
     "name": "stdout",
     "output_type": "stream",
     "text": [
      "====================politics-laws====================\n",
      "Proccess 50 article(s)\n",
      "Proccess 100 article(s)\n",
      "Proccess 150 article(s)\n",
      "Proccess 200 article(s)\n",
      "Proccess 250 article(s)\n",
      "Proccess 300 article(s)\n",
      "Proccess 350 article(s)\n",
      "Proccess 400 article(s)\n",
      "Proccess 450 article(s)\n",
      "Proccess 500 article(s)\n",
      "Proccess 550 article(s)\n",
      "Proccess 600 article(s)\n",
      "Proccess 650 article(s)\n",
      "Proccess 700 article(s)\n",
      "Proccess 750 article(s)\n",
      "====================society====================\n",
      "Proccess 800 article(s)\n",
      "Proccess 850 article(s)\n",
      "Proccess 900 article(s)\n",
      "Proccess 950 article(s)\n",
      "Proccess 1000 article(s)\n",
      "Proccess 1050 article(s)\n",
      "Proccess 1100 article(s)\n",
      "Proccess 1150 article(s)\n",
      "Proccess 1200 article(s)\n",
      "Proccess 1250 article(s)\n",
      "Proccess 1300 article(s)\n",
      "Proccess 1350 article(s)\n",
      "Proccess 1400 article(s)\n",
      "Proccess 1450 article(s)\n",
      "Proccess 1500 article(s)\n",
      "Proccess 1550 article(s)\n",
      "Proccess 1600 article(s)\n",
      "====================economy====================\n",
      "Proccess 1650 article(s)\n",
      "Proccess 1700 article(s)\n",
      "Proccess 1750 article(s)\n",
      "Proccess 1800 article(s)\n",
      "Proccess 1850 article(s)\n",
      "Proccess 1900 article(s)\n",
      "Proccess 1950 article(s)\n",
      "Proccess 2000 article(s)\n",
      "Proccess 2050 article(s)\n",
      "Proccess 2100 article(s)\n",
      "Proccess 2150 article(s)\n",
      "Proccess 2200 article(s)\n",
      "Proccess 2250 article(s)\n",
      "Proccess 2300 article(s)\n",
      "Proccess 2350 article(s)\n",
      "Proccess 2400 article(s)\n",
      "Proccess 2450 article(s)\n",
      "====================sports====================\n",
      "Proccess 2500 article(s)\n"
     ]
    }
   ],
   "source": [
    "# parse article\n",
    "csv_file = open('../data/csv/vietnamnews.csv', 'w', encoding='utf-8')\n",
    "csv_file.write(f'id\\ttitle\\ttext\\tlabel\\n')\n",
    "\n",
    "n_failed_articles = 0\n",
    "n_successful_articles = 0\n",
    "\n",
    "label_id = 0\n",
    "\n",
    "for key in all_urls.keys():\n",
    "    print('='*20 + key + '='*20)\n",
    "    for url in all_urls[key]:\n",
    "        try:\n",
    "            text, title = get_article_raw_feature(url)\n",
    "            csv_file.write(f'{n_successful_articles}\\t{title}\\t{text}\\t{label_id}\\n')\n",
    "            n_successful_articles += 1\n",
    "            \n",
    "            if n_successful_articles % 50 == 0:\n",
    "                print('Proccess {} article(s)'.format(n_successful_articles))\n",
    "            \n",
    "        except:\n",
    "            n_failed_articles += 1\n",
    "    \n",
    "    label_id += 1\n",
    "\n",
    "csv_file.close()\n",
    "print('Number of successful articles: ', n_successful_articles)\n",
    "print('Number of failed articles: ', n_failed_articles)"
   ]
  },
  {
   "cell_type": "code",
   "execution_count": null,
   "metadata": {},
   "outputs": [],
   "source": []
  }
 ],
 "metadata": {
  "kernelspec": {
   "display_name": "Python 3",
   "language": "python",
   "name": "python3"
  },
  "language_info": {
   "codemirror_mode": {
    "name": "ipython",
    "version": 3
   },
   "file_extension": ".py",
   "mimetype": "text/x-python",
   "name": "python",
   "nbconvert_exporter": "python",
   "pygments_lexer": "ipython3",
   "version": "3.7.3"
  }
 },
 "nbformat": 4,
 "nbformat_minor": 4
}
