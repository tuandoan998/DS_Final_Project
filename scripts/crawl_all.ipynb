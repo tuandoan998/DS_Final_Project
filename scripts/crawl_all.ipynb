{
 "cells": [
  {
   "cell_type": "code",
   "execution_count": 1,
   "metadata": {},
   "outputs": [],
   "source": [
    "from selenium import webdriver\n",
    "import time\n",
    "import json\n",
    "from requests_html import HTMLSession"
   ]
  },
  {
   "cell_type": "code",
   "execution_count": 2,
   "metadata": {},
   "outputs": [],
   "source": [
    "politics_url = 'https://vietnamnews.vn/politics-laws'\n",
    "society_url = 'https://vietnamnews.vn/society'\n",
    "economy_url = 'https://vietnamnews.vn/economy'\n",
    "sports_url = 'https://vietnamnews.vn/sports'\n",
    "environment_url = 'https://vietnamnews.vn/environment'\n",
    "\n",
    "categories = [politics_url, society_url, economy_url, sports_url, environment_url]"
   ]
  },
  {
   "cell_type": "code",
   "execution_count": 3,
   "metadata": {},
   "outputs": [],
   "source": [
    "def get_article_information(article_url, session):\n",
    "    r = session.get(article_url)\n",
    "    findable_html = r.html\n",
    "    \n",
    "    title = findable_html.find('.vnnews-tt-post', first=True).text\n",
    "    text = findable_html.find('.vnnews-text-post', first=True).text\n",
    "    article_time = findable_html.find('.vnnews-time-post', first=True).text\n",
    "    \n",
    "    return repr(text), repr(title), repr(article_time)"
   ]
  },
  {
   "cell_type": "code",
   "execution_count": 4,
   "metadata": {},
   "outputs": [],
   "source": [
    "def is_in_time(article_time, time_list):\n",
    "    for t in time_list:\n",
    "        if article_time.find(t) != -1:\n",
    "            return True\n",
    "        \n",
    "    return False"
   ]
  },
  {
   "cell_type": "code",
   "execution_count": 5,
   "metadata": {},
   "outputs": [
    {
     "name": "stdout",
     "output_type": "stream",
     "text": [
      "... Crawling politics-laws ...\n",
      "==================================================\n",
      "Crawled 1 pages of politics-laws\n",
      "Number of urls:  9\n",
      "Number of successful articles:  3\n",
      "Number of duplicate articles:  0\n",
      "Number of invalid time articles:  6\n",
      "Number of invalid text articles:  0\n",
      "Total invalid articles:  6\n",
      "Number of failed articles:  0\n",
      "Fail reasons:  set()\n",
      "Time elapsed: 0m 16s\n",
      "==================================================\n",
      "... Crawling society ...\n",
      "Message: no such window: target window already closed\n",
      "from unknown error: web view not found\n",
      "  (Session info: chrome=76.0.3809.132)\n",
      "\n",
      "Terminate at 1 pages\n"
     ]
    },
    {
     "ename": "NoSuchWindowException",
     "evalue": "Message: no such window: target window already closed\nfrom unknown error: web view not found\n  (Session info: chrome=76.0.3809.132)\n",
     "output_type": "error",
     "traceback": [
      "\u001b[0;31m---------------------------------------------------------------------------\u001b[0m",
      "\u001b[0;31mNoSuchWindowException\u001b[0m                     Traceback (most recent call last)",
      "\u001b[0;32m<ipython-input-5-11afe4fce851>\u001b[0m in \u001b[0;36m<module>\u001b[0;34m\u001b[0m\n\u001b[1;32m     74\u001b[0m             \u001b[0;32mbreak\u001b[0m\u001b[0;34m\u001b[0m\u001b[0;34m\u001b[0m\u001b[0m\n\u001b[1;32m     75\u001b[0m \u001b[0;34m\u001b[0m\u001b[0m\n\u001b[0;32m---> 76\u001b[0;31m     \u001b[0mbrowser\u001b[0m\u001b[0;34m.\u001b[0m\u001b[0mclose\u001b[0m\u001b[0;34m(\u001b[0m\u001b[0;34m)\u001b[0m\u001b[0;34m\u001b[0m\u001b[0;34m\u001b[0m\u001b[0m\n\u001b[0m\u001b[1;32m     77\u001b[0m \u001b[0;34m\u001b[0m\u001b[0m\n\u001b[1;32m     78\u001b[0m \u001b[0mcsv_file\u001b[0m\u001b[0;34m.\u001b[0m\u001b[0mclose\u001b[0m\u001b[0;34m(\u001b[0m\u001b[0;34m)\u001b[0m\u001b[0;34m\u001b[0m\u001b[0;34m\u001b[0m\u001b[0m\n",
      "\u001b[0;32m~/anaconda3/lib/python3.7/site-packages/selenium/webdriver/remote/webdriver.py\u001b[0m in \u001b[0;36mclose\u001b[0;34m(self)\u001b[0m\n\u001b[1;32m    686\u001b[0m             \u001b[0mdriver\u001b[0m\u001b[0;34m.\u001b[0m\u001b[0mclose\u001b[0m\u001b[0;34m(\u001b[0m\u001b[0;34m)\u001b[0m\u001b[0;34m\u001b[0m\u001b[0;34m\u001b[0m\u001b[0m\n\u001b[1;32m    687\u001b[0m         \"\"\"\n\u001b[0;32m--> 688\u001b[0;31m         \u001b[0mself\u001b[0m\u001b[0;34m.\u001b[0m\u001b[0mexecute\u001b[0m\u001b[0;34m(\u001b[0m\u001b[0mCommand\u001b[0m\u001b[0;34m.\u001b[0m\u001b[0mCLOSE\u001b[0m\u001b[0;34m)\u001b[0m\u001b[0;34m\u001b[0m\u001b[0;34m\u001b[0m\u001b[0m\n\u001b[0m\u001b[1;32m    689\u001b[0m \u001b[0;34m\u001b[0m\u001b[0m\n\u001b[1;32m    690\u001b[0m     \u001b[0;32mdef\u001b[0m \u001b[0mquit\u001b[0m\u001b[0;34m(\u001b[0m\u001b[0mself\u001b[0m\u001b[0;34m)\u001b[0m\u001b[0;34m:\u001b[0m\u001b[0;34m\u001b[0m\u001b[0;34m\u001b[0m\u001b[0m\n",
      "\u001b[0;32m~/anaconda3/lib/python3.7/site-packages/selenium/webdriver/remote/webdriver.py\u001b[0m in \u001b[0;36mexecute\u001b[0;34m(self, driver_command, params)\u001b[0m\n\u001b[1;32m    319\u001b[0m         \u001b[0mresponse\u001b[0m \u001b[0;34m=\u001b[0m \u001b[0mself\u001b[0m\u001b[0;34m.\u001b[0m\u001b[0mcommand_executor\u001b[0m\u001b[0;34m.\u001b[0m\u001b[0mexecute\u001b[0m\u001b[0;34m(\u001b[0m\u001b[0mdriver_command\u001b[0m\u001b[0;34m,\u001b[0m \u001b[0mparams\u001b[0m\u001b[0;34m)\u001b[0m\u001b[0;34m\u001b[0m\u001b[0;34m\u001b[0m\u001b[0m\n\u001b[1;32m    320\u001b[0m         \u001b[0;32mif\u001b[0m \u001b[0mresponse\u001b[0m\u001b[0;34m:\u001b[0m\u001b[0;34m\u001b[0m\u001b[0;34m\u001b[0m\u001b[0m\n\u001b[0;32m--> 321\u001b[0;31m             \u001b[0mself\u001b[0m\u001b[0;34m.\u001b[0m\u001b[0merror_handler\u001b[0m\u001b[0;34m.\u001b[0m\u001b[0mcheck_response\u001b[0m\u001b[0;34m(\u001b[0m\u001b[0mresponse\u001b[0m\u001b[0;34m)\u001b[0m\u001b[0;34m\u001b[0m\u001b[0;34m\u001b[0m\u001b[0m\n\u001b[0m\u001b[1;32m    322\u001b[0m             response['value'] = self._unwrap_value(\n\u001b[1;32m    323\u001b[0m                 response.get('value', None))\n",
      "\u001b[0;32m~/anaconda3/lib/python3.7/site-packages/selenium/webdriver/remote/errorhandler.py\u001b[0m in \u001b[0;36mcheck_response\u001b[0;34m(self, response)\u001b[0m\n\u001b[1;32m    240\u001b[0m                 \u001b[0malert_text\u001b[0m \u001b[0;34m=\u001b[0m \u001b[0mvalue\u001b[0m\u001b[0;34m[\u001b[0m\u001b[0;34m'alert'\u001b[0m\u001b[0;34m]\u001b[0m\u001b[0;34m.\u001b[0m\u001b[0mget\u001b[0m\u001b[0;34m(\u001b[0m\u001b[0;34m'text'\u001b[0m\u001b[0;34m)\u001b[0m\u001b[0;34m\u001b[0m\u001b[0;34m\u001b[0m\u001b[0m\n\u001b[1;32m    241\u001b[0m             \u001b[0;32mraise\u001b[0m \u001b[0mexception_class\u001b[0m\u001b[0;34m(\u001b[0m\u001b[0mmessage\u001b[0m\u001b[0;34m,\u001b[0m \u001b[0mscreen\u001b[0m\u001b[0;34m,\u001b[0m \u001b[0mstacktrace\u001b[0m\u001b[0;34m,\u001b[0m \u001b[0malert_text\u001b[0m\u001b[0;34m)\u001b[0m\u001b[0;34m\u001b[0m\u001b[0;34m\u001b[0m\u001b[0m\n\u001b[0;32m--> 242\u001b[0;31m         \u001b[0;32mraise\u001b[0m \u001b[0mexception_class\u001b[0m\u001b[0;34m(\u001b[0m\u001b[0mmessage\u001b[0m\u001b[0;34m,\u001b[0m \u001b[0mscreen\u001b[0m\u001b[0;34m,\u001b[0m \u001b[0mstacktrace\u001b[0m\u001b[0;34m)\u001b[0m\u001b[0;34m\u001b[0m\u001b[0;34m\u001b[0m\u001b[0m\n\u001b[0m\u001b[1;32m    243\u001b[0m \u001b[0;34m\u001b[0m\u001b[0m\n\u001b[1;32m    244\u001b[0m     \u001b[0;32mdef\u001b[0m \u001b[0m_value_or_default\u001b[0m\u001b[0;34m(\u001b[0m\u001b[0mself\u001b[0m\u001b[0;34m,\u001b[0m \u001b[0mobj\u001b[0m\u001b[0;34m,\u001b[0m \u001b[0mkey\u001b[0m\u001b[0;34m,\u001b[0m \u001b[0mdefault\u001b[0m\u001b[0;34m)\u001b[0m\u001b[0;34m:\u001b[0m\u001b[0;34m\u001b[0m\u001b[0;34m\u001b[0m\u001b[0m\n",
      "\u001b[0;31mNoSuchWindowException\u001b[0m: Message: no such window: target window already closed\nfrom unknown error: web view not found\n  (Session info: chrome=76.0.3809.132)\n"
     ]
    }
   ],
   "source": [
    "csv_file = open('../data/csv/vietnamnews.csv', 'w', encoding='utf-8')\n",
    "csv_file.write(f'id\\ttitle\\ttext\\tlabel\\n')\n",
    "start_time = time.time()\n",
    "\n",
    "session = HTMLSession()\n",
    "\n",
    "n_failed_articles = 0\n",
    "n_successful_articles = 0\n",
    "\n",
    "n_duplicate_articles = 0\n",
    "n_invalid_times = 0\n",
    "n_invalid_text = 0\n",
    "\n",
    "total_invalid_articles = 0\n",
    "\n",
    "title_set = set()\n",
    "errors_set = set()\n",
    "urls_set = set()\n",
    "\n",
    "num_pages = 1\n",
    "\n",
    "for label_id, category_url in enumerate(categories):\n",
    "    category_name = category_url.split('/')[-1]\n",
    "    print(f'... Crawling {category_name} ...')\n",
    "    browser = webdriver.Chrome('./chromedriver')\n",
    "    browser.get(category_url)\n",
    "    \n",
    "    for i in range(num_pages):\n",
    "        try:\n",
    "            articles = browser.find_element_by_class_name('vnnews-list-news').find_elements_by_tag_name(\"li\")\n",
    "            for article in articles:\n",
    "                url = article.find_element_by_tag_name('a').get_attribute('href')\n",
    "                urls_set.add(url)\n",
    "                try:\n",
    "                    text, title, article_time = get_article_information(url, session)\n",
    "                    prev_len = len(title_set)\n",
    "                    title_set.add(title)\n",
    "                    if is_in_time(article_time, ['2017', '2018', '2019']) and prev_len != len(title_set) \\\n",
    "                    and len(text) > 20:\n",
    "                        csv_file.write(f'{n_successful_articles}\\t{title}\\t{text}\\t{category_name}\\n')\n",
    "                        n_successful_articles += 1\n",
    "                    else:\n",
    "                        if is_in_time(article_time, ['2017', '2018', '2019']) == False:\n",
    "                            n_invalid_times += 1\n",
    "                        if len(text) <= 20:\n",
    "                            n_invalid_text += 1\n",
    "                        if prev_len == len(title_set):\n",
    "                            n_duplicate_articles += 1\n",
    "                        \n",
    "                        total_invalid_articles += 1\n",
    "                except Exception as e:\n",
    "                    errors_set.add(e)\n",
    "                    n_failed_articles += 1\n",
    "            \n",
    "            if (i+1) % 10 == 0 or i == 0:\n",
    "                print('='*50)\n",
    "                print(\"Crawled {} pages of {}\".format(i+1, category_name))\n",
    "                print('Number of urls: ', len(urls_set))\n",
    "                print('Number of successful articles: ', n_successful_articles)\n",
    "                print('Number of duplicate articles: ', n_duplicate_articles)\n",
    "                print('Number of invalid time articles: ', n_invalid_times)\n",
    "                print('Number of invalid text articles: ', n_invalid_text)\n",
    "                print('Total invalid articles: ', total_invalid_articles)\n",
    "                print('Number of failed articles: ', n_failed_articles)\n",
    "                print('Fail reasons: ', errors_set)\n",
    "                \n",
    "                elapsed_time = time.time() - start_time\n",
    "                print('Time elapsed: {}m {}s'.format(int(elapsed_time//60), int(elapsed_time%60)))\n",
    "                print('='*50)\n",
    "            browser.find_element_by_class_name(\"vnnews-paging\").find_elements_by_tag_name(\"a\")[4].click()\n",
    "        except Exception as e:\n",
    "            print(e)\n",
    "            print('Terminate at {} pages'.format(i+1))\n",
    "            break\n",
    "    \n",
    "    browser.close()\n",
    "    \n",
    "csv_file.close()\n",
    "elapsed_time = time.time() - start_time\n",
    "print('Finish after: {}m {}s'.format(int(elapsed_time//60), int(elapsed_time%60)))"
   ]
  },
  {
   "cell_type": "code",
   "execution_count": null,
   "metadata": {},
   "outputs": [],
   "source": []
  }
 ],
 "metadata": {
  "kernelspec": {
   "display_name": "Python 3",
   "language": "python",
   "name": "python3"
  },
  "language_info": {
   "codemirror_mode": {
    "name": "ipython",
    "version": 3
   },
   "file_extension": ".py",
   "mimetype": "text/x-python",
   "name": "python",
   "nbconvert_exporter": "python",
   "pygments_lexer": "ipython3",
   "version": "3.7.3"
  }
 },
 "nbformat": 4,
 "nbformat_minor": 4
}
