{
 "cells": [
  {
   "cell_type": "markdown",
   "metadata": {},
   "source": [
    "# Project Pipeline"
   ]
  },
  {
   "cell_type": "markdown",
   "metadata": {},
   "source": [
    "## 0. Import"
   ]
  },
  {
   "cell_type": "code",
   "execution_count": 1,
   "metadata": {},
   "outputs": [
    {
     "name": "stdout",
     "output_type": "stream",
     "text": [
      "Requirement already satisfied: Unidecode in /home/quangminh/anaconda3/lib/python3.7/site-packages (1.1.1)\r\n"
     ]
    }
   ],
   "source": [
    "!pip install Unidecode"
   ]
  },
  {
   "cell_type": "code",
   "execution_count": 2,
   "metadata": {},
   "outputs": [],
   "source": [
    "%matplotlib inline\n",
    "import matplotlib.pyplot as plt\n",
    "import seaborn as sns\n",
    "import pandas as pd\n",
    "import numpy as np\n",
    "import time\n",
    "import re\n",
    "import json\n",
    "import itertools\n",
    "import unidecode\n",
    "\n",
    "from sklearn.model_selection import train_test_split, KFold\n",
    "from sklearn.preprocessing import OneHotEncoder, StandardScaler\n",
    "from sklearn.impute import SimpleImputer\n",
    "from sklearn.base import BaseEstimator, TransformerMixin\n",
    "from sklearn.pipeline import Pipeline, make_pipeline, FeatureUnion\n",
    "from sklearn.compose import ColumnTransformer, make_column_transformer\n",
    "from sklearn.neural_network import MLPClassifier\n",
    "from sklearn import linear_model, metrics\n",
    "from sklearn.neural_network import MLPClassifier\n",
    "from sklearn.svm import SVC\n",
    "from sklearn.metrics import confusion_matrix\n",
    "from sklearn.feature_extraction.text import TfidfVectorizer\n",
    "from sklearn.decomposition import TruncatedSVD"
   ]
  },
  {
   "cell_type": "markdown",
   "metadata": {},
   "source": [
    "## 1. Tách dữ liệu để huấn luyện và kiểm thử\n",
    "Mục đích của bước này là chia dữ liệu làm 2 phần, một phần để huấn luyện và phần còn lại coi như là thực tế và để đánh giá cuối cùng.\n",
    "- Đầu vào: đường dẫn đến file dữ liệu đã crawl\n",
    "- Đầu ra: 1 file train.csv và 1 file test.csv"
   ]
  },
  {
   "cell_type": "code",
   "execution_count": 3,
   "metadata": {},
   "outputs": [],
   "source": [
    "def split_train_test(data_path, train_data_path, test_data_path):\n",
    "    data_df = pd.read_csv(data_path, index_col=0)\n",
    "    \n",
    "    train_df, test_df = train_test_split(data_df, test_size=0.2, random_state=0)\n",
    "    train_df.to_csv(train_data_path)\n",
    "    test_df.to_csv(test_data_path)\n",
    "    \n",
    "split_train_test('../data/csv/vietnamnews_backup.csv', '../data/csv/train.csv', '../data/csv/test.csv')"
   ]
  },
  {
   "cell_type": "code",
   "execution_count": 4,
   "metadata": {},
   "outputs": [
    {
     "data": {
      "text/html": [
       "<div>\n",
       "<style scoped>\n",
       "    .dataframe tbody tr th:only-of-type {\n",
       "        vertical-align: middle;\n",
       "    }\n",
       "\n",
       "    .dataframe tbody tr th {\n",
       "        vertical-align: top;\n",
       "    }\n",
       "\n",
       "    .dataframe thead th {\n",
       "        text-align: right;\n",
       "    }\n",
       "</style>\n",
       "<table border=\"1\" class=\"dataframe\">\n",
       "  <thead>\n",
       "    <tr style=\"text-align: right;\">\n",
       "      <th></th>\n",
       "      <th>title</th>\n",
       "      <th>text</th>\n",
       "      <th>label</th>\n",
       "    </tr>\n",
       "    <tr>\n",
       "      <th>id</th>\n",
       "      <th></th>\n",
       "      <th></th>\n",
       "      <th></th>\n",
       "    </tr>\n",
       "  </thead>\n",
       "  <tbody>\n",
       "    <tr>\n",
       "      <td>3233</td>\n",
       "      <td>'Friendly visa policies help VN\\xa0greet more ...</td>\n",
       "      <td>Experts told\\xa0Việt Nam News reporter Nguyễn ...</td>\n",
       "      <td>2</td>\n",
       "    </tr>\n",
       "    <tr>\n",
       "      <td>5344</td>\n",
       "      <td>'PM calls for joint action to deal with plasti...</td>\n",
       "      <td>'Prime Minister Nguyễn Xuân Phúc has written a...</td>\n",
       "      <td>4</td>\n",
       "    </tr>\n",
       "    <tr>\n",
       "      <td>613</td>\n",
       "      <td>'Meetings held leading to ASEAN Summit'</td>\n",
       "      <td>Leaders of delegations at the preparatory meet...</td>\n",
       "      <td>0</td>\n",
       "    </tr>\n",
       "    <tr>\n",
       "      <td>4313</td>\n",
       "      <td>'Việt Nam leave for U19 Bangkok Cup'</td>\n",
       "      <td>'U19 players will test their skills at the\\xa0...</td>\n",
       "      <td>3</td>\n",
       "    </tr>\n",
       "    <tr>\n",
       "      <td>2726</td>\n",
       "      <td>'Hà Nội needs more efficient policies to devel...</td>\n",
       "      <td>Production at the Thăng Long Metal Joint Stock...</td>\n",
       "      <td>2</td>\n",
       "    </tr>\n",
       "    <tr>\n",
       "      <td>...</td>\n",
       "      <td>...</td>\n",
       "      <td>...</td>\n",
       "      <td>...</td>\n",
       "    </tr>\n",
       "    <tr>\n",
       "      <td>4931</td>\n",
       "      <td>KING'S CUP: Viet Nam vs Thailand live blog</td>\n",
       "      <td>We're signing off after a drama-filled night, ...</td>\n",
       "      <td>3</td>\n",
       "    </tr>\n",
       "    <tr>\n",
       "      <td>3264</td>\n",
       "      <td>'Over 100 firms to take part in chemicals expo...</td>\n",
       "      <td>'Visitors at last year’s Vinachem Expo in HCM ...</td>\n",
       "      <td>2</td>\n",
       "    </tr>\n",
       "    <tr>\n",
       "      <td>1653</td>\n",
       "      <td>'Man in Bạc Liêu jailed for spreading anti-Sta...</td>\n",
       "      <td>'Nguyễn Chí Vững appears in court. — VNA/VNS P...</td>\n",
       "      <td>1</td>\n",
       "    </tr>\n",
       "    <tr>\n",
       "      <td>2607</td>\n",
       "      <td>'House fire causes great damage in Cao Bằng'</td>\n",
       "      <td>Firefighters distinguished the fire after 30 m...</td>\n",
       "      <td>1</td>\n",
       "    </tr>\n",
       "    <tr>\n",
       "      <td>2732</td>\n",
       "      <td>Việt Nam's agriculture sector sets goals for 2020</td>\n",
       "      <td>'An agricultural area in the Central Highlands...</td>\n",
       "      <td>2</td>\n",
       "    </tr>\n",
       "  </tbody>\n",
       "</table>\n",
       "<p>4894 rows × 3 columns</p>\n",
       "</div>"
      ],
      "text/plain": [
       "                                                  title  \\\n",
       "id                                                        \n",
       "3233  'Friendly visa policies help VN\\xa0greet more ...   \n",
       "5344  'PM calls for joint action to deal with plasti...   \n",
       "613             'Meetings held leading to ASEAN Summit'   \n",
       "4313               'Việt Nam leave for U19 Bangkok Cup'   \n",
       "2726  'Hà Nội needs more efficient policies to devel...   \n",
       "...                                                 ...   \n",
       "4931         KING'S CUP: Viet Nam vs Thailand live blog   \n",
       "3264  'Over 100 firms to take part in chemicals expo...   \n",
       "1653  'Man in Bạc Liêu jailed for spreading anti-Sta...   \n",
       "2607       'House fire causes great damage in Cao Bằng'   \n",
       "2732  Việt Nam's agriculture sector sets goals for 2020   \n",
       "\n",
       "                                                   text  label  \n",
       "id                                                              \n",
       "3233  Experts told\\xa0Việt Nam News reporter Nguyễn ...      2  \n",
       "5344  'Prime Minister Nguyễn Xuân Phúc has written a...      4  \n",
       "613   Leaders of delegations at the preparatory meet...      0  \n",
       "4313  'U19 players will test their skills at the\\xa0...      3  \n",
       "2726  Production at the Thăng Long Metal Joint Stock...      2  \n",
       "...                                                 ...    ...  \n",
       "4931  We're signing off after a drama-filled night, ...      3  \n",
       "3264  'Visitors at last year’s Vinachem Expo in HCM ...      2  \n",
       "1653  'Nguyễn Chí Vững appears in court. — VNA/VNS P...      1  \n",
       "2607  Firefighters distinguished the fire after 30 m...      1  \n",
       "2732  'An agricultural area in the Central Highlands...      2  \n",
       "\n",
       "[4894 rows x 3 columns]"
      ]
     },
     "execution_count": 4,
     "metadata": {},
     "output_type": "execute_result"
    }
   ],
   "source": [
    "data_df = pd.read_csv('../data/csv/train.csv', index_col = 0)\n",
    "data_df.label.astype(int)\n",
    "\n",
    "data_df"
   ]
  },
  {
   "cell_type": "markdown",
   "metadata": {},
   "source": [
    "## 2. Thống kê dữ liệu tập huấn luyện\n",
    "- Thống kê một vài giá trị, từ đó tìm ra các đặc trưng phù hợp cho bài toán"
   ]
  },
  {
   "cell_type": "code",
   "execution_count": 5,
   "metadata": {},
   "outputs": [],
   "source": [
    "def value_to_top_bar(ax):\n",
    "    for p in ax.patches:\n",
    "        ax.annotate('{:.2f}'.format(p.get_height()), (p.get_x() * 1.005, p.get_height() * 1.005))"
   ]
  },
  {
   "cell_type": "code",
   "execution_count": 6,
   "metadata": {},
   "outputs": [
    {
     "data": {
      "text/plain": [
       "['politics-laws', 'society', 'economy', 'sports', 'environment']"
      ]
     },
     "execution_count": 6,
     "metadata": {},
     "output_type": "execute_result"
    }
   ],
   "source": [
    "# get label\n",
    "label_name = []\n",
    "with open('../data/csv/label.txt', 'r') as f:\n",
    "    label_name = [item.split(': ')[0] for item in f.readlines()]\n",
    "        \n",
    "label_name"
   ]
  },
  {
   "cell_type": "code",
   "execution_count": 7,
   "metadata": {},
   "outputs": [
    {
     "data": {
      "text/plain": [
       "False"
      ]
     },
     "execution_count": 7,
     "metadata": {},
     "output_type": "execute_result"
    }
   ],
   "source": [
    "data_df.isnull().values.any()"
   ]
  },
  {
   "cell_type": "markdown",
   "metadata": {},
   "source": [
    "### 2.1. Số lượng mẫu dữ liệu ở mỗi thể loại"
   ]
  },
  {
   "cell_type": "code",
   "execution_count": 8,
   "metadata": {},
   "outputs": [
    {
     "data": {
      "image/png": "[encoded data removed]",
      "text/plain": [
       "<Figure size 432x288 with 1 Axes>"
      ]
     },
     "metadata": {
      "needs_background": "light"
     },
     "output_type": "display_data"
    }
   ],
   "source": [
    "display_sr = pd.Series()\n",
    "for i,label in enumerate(data_df['label'].unique()):\n",
    "    display_sr.at[label_name[i]] = len(data_df.loc[data_df['label'] == i])\n",
    "    \n",
    "ax = display_sr.plot(kind='bar')\n",
    "ax.set_xlabel('Category')\n",
    "ax.set_ylabel('Number of sample')\n",
    "ax.set_title('Number of sample in each category')\n",
    "\n",
    "value_to_top_bar(ax)"
   ]
  },
  {
   "cell_type": "markdown",
   "metadata": {},
   "source": [
    "### 2.2. Độ dài chuỗi trung bình của title ở mỗi thể loại"
   ]
  },
  {
   "cell_type": "code",
   "execution_count": 9,
   "metadata": {},
   "outputs": [
    {
     "data": {
      "image/png": "[encoded data removed]",
      "text/plain": [
       "<Figure size 432x288 with 1 Axes>"
      ]
     },
     "metadata": {
      "needs_background": "light"
     },
     "output_type": "display_data"
    }
   ],
   "source": [
    "display_sr = pd.Series()\n",
    "for i,label in enumerate(data_df['label'].unique()):\n",
    "    display_sr.at[label_name[i]] = data_df.loc[data_df['label'] == label]['title'].str.len().mean()\n",
    "    \n",
    "ax = display_sr.plot(kind='bar')\n",
    "ax.set_xlabel('Category')\n",
    "ax.set_ylabel('Mean of title length')\n",
    "ax.set_title('Mean of title length in each category')\n",
    "\n",
    "value_to_top_bar(ax)"
   ]
  },
  {
   "cell_type": "markdown",
   "metadata": {},
   "source": [
    "### 2.3. Độ dài chuỗi trung bình của văn bản (text) ở mỗi thể loại"
   ]
  },
  {
   "cell_type": "code",
   "execution_count": 10,
   "metadata": {},
   "outputs": [
    {
     "data": {
      "image/png": "[encoded data removed]",
      "text/plain": [
       "<Figure size 432x288 with 1 Axes>"
      ]
     },
     "metadata": {
      "needs_background": "light"
     },
     "output_type": "display_data"
    }
   ],
   "source": [
    "display_sr = pd.Series()\n",
    "for i,label in enumerate(data_df['label'].unique()):\n",
    "    display_sr.at[label_name[i]] = data_df.loc[data_df['label'] == label]['text'].str.len().mean()\n",
    "    \n",
    "ax = display_sr.plot(kind='bar')\n",
    "ax.set_xlabel('Category')\n",
    "ax.set_ylabel('Mean of text length')\n",
    "ax.set_title('Mean of text length in each category')\n",
    "\n",
    "value_to_top_bar(ax)"
   ]
  },
  {
   "cell_type": "markdown",
   "metadata": {},
   "source": [
    "### 2.4. Số lượng  từ trung bình trong 1 văn bản của từng thể loại"
   ]
  },
  {
   "cell_type": "code",
   "execution_count": 11,
   "metadata": {},
   "outputs": [
    {
     "data": {
      "image/png": "[encoded data removed]",
      "text/plain": [
       "<Figure size 432x288 with 1 Axes>"
      ]
     },
     "metadata": {
      "needs_background": "light"
     },
     "output_type": "display_data"
    }
   ],
   "source": [
    "display_sr = pd.Series()\n",
    "for i,label in enumerate(data_df['label'].unique()):\n",
    "    display_sr.at[label_name[i]] = data_df.loc[data_df['label'] == label]['text'].str.split(' ').apply(len).mean()\n",
    "    \n",
    "ax = display_sr.plot(kind='bar')\n",
    "ax.set_xlabel('Category')\n",
    "ax.set_ylabel('Mean of number of words in a text')\n",
    "ax.set_title('Mean of number of words in each category')\n",
    "\n",
    "value_to_top_bar(ax)"
   ]
  },
  {
   "cell_type": "markdown",
   "metadata": {},
   "source": [
    "### 2.5. Số lượng chữ cái viết thường trung bình trong 1 văn bản của từng thể loại"
   ]
  },
  {
   "cell_type": "code",
   "execution_count": 12,
   "metadata": {},
   "outputs": [
    {
     "data": {
      "image/png": "[encoded data removed]",
      "text/plain": [
       "<Figure size 432x288 with 1 Axes>"
      ]
     },
     "metadata": {
      "needs_background": "light"
     },
     "output_type": "display_data"
    }
   ],
   "source": [
    "display_sr = pd.Series()\n",
    "for i,label in enumerate(data_df['label'].unique()):\n",
    "    display_sr.at[label_name[i]] = data_df.loc[data_df['label'] == label]['text'].str.count(r'[a-z]').mean()\n",
    "    \n",
    "ax = display_sr.plot(kind='bar')\n",
    "ax.set_xlabel('Category')\n",
    "ax.set_ylabel('Mean of number of lowercase letter in a text')\n",
    "ax.set_title('Mean of number of lowercase letter in a text in each category')\n",
    "\n",
    "value_to_top_bar(ax)"
   ]
  },
  {
   "cell_type": "markdown",
   "metadata": {},
   "source": [
    "### 2.6. Số lượng chữ cái viết hoa trung bình trong 1 văn bản của từng thể loại"
   ]
  },
  {
   "cell_type": "code",
   "execution_count": 13,
   "metadata": {},
   "outputs": [
    {
     "data": {
      "image/png": "[encoded data removed]",
      "text/plain": [
       "<Figure size 432x288 with 1 Axes>"
      ]
     },
     "metadata": {
      "needs_background": "light"
     },
     "output_type": "display_data"
    }
   ],
   "source": [
    "display_sr = pd.Series()\n",
    "for i,label in enumerate(data_df['label'].unique()):\n",
    "    display_sr.at[label_name[i]] = data_df.loc[data_df['label'] == label]['text'].str.count(r'[A-Z]').mean()\n",
    "    \n",
    "ax = display_sr.plot(kind='bar')\n",
    "ax.set_xlabel('Category')\n",
    "ax.set_ylabel('Mean of number of uppercase letter in a text')\n",
    "ax.set_title('Mean of number of uppercase letter in a text in each category')\n",
    "\n",
    "value_to_top_bar(ax)"
   ]
  },
  {
   "cell_type": "markdown",
   "metadata": {},
   "source": [
    "### 2.7. Số lượng dấu cảm thán (!, ?) trung trong 1 văn bản"
   ]
  },
  {
   "cell_type": "code",
   "execution_count": 14,
   "metadata": {},
   "outputs": [
    {
     "data": {
      "image/png": "[encoded data removed]",
      "text/plain": [
       "<Figure size 432x288 with 1 Axes>"
      ]
     },
     "metadata": {
      "needs_background": "light"
     },
     "output_type": "display_data"
    }
   ],
   "source": [
    "display_sr = pd.Series()\n",
    "for i,label in enumerate(data_df['label'].unique()):\n",
    "    display_sr.at[label_name[i]] = data_df.loc[data_df['label'] == label]['text'].apply(lambda x: (x.count('!')+x.count('?'))).mean()\n",
    "    \n",
    "ax = display_sr.plot(kind='bar')\n",
    "ax.set_xlabel('Category')\n",
    "ax.set_ylabel('Mean of number of uppercase letter in a text')\n",
    "ax.set_title('Mean of number of uppercase letter in a text in each category')\n",
    "\n",
    "value_to_top_bar(ax)"
   ]
  },
  {
   "cell_type": "markdown",
   "metadata": {},
   "source": [
    "## 3. Tiền xử lý dữ liệu"
   ]
  },
  {
   "cell_type": "code",
   "execution_count": 15,
   "metadata": {},
   "outputs": [],
   "source": [
    "y_sr = data_df[\"label\"]\n",
    "X_df = data_df.drop(\"label\", axis=1)"
   ]
  },
  {
   "cell_type": "code",
   "execution_count": 16,
   "metadata": {},
   "outputs": [],
   "source": [
    "# Module được thực hiện đầu Pipeline, xóa các khoảng trắng liên tiếp, các ký tự: \\n, \\t, ..., \n",
    "# đồng thời xóa các dòng có giá trị thiếu\n",
    "\n",
    "class RemoveIrrelevant(BaseEstimator, TransformerMixin):\n",
    "    @staticmethod\n",
    "    def clean_str(string):\n",
    "        string = re.sub(r\"\\\\xa0\", \" \", string)\n",
    "        string = re.sub(r\"\\'s\", \"\", string)\n",
    "        string = re.sub(r\"\\'ve\", \"\", string)\n",
    "        string = re.sub(r\"n\\'t\", \"\", string)\n",
    "        string = re.sub(r\"\\'re\", \"\", string)\n",
    "        string = re.sub(r\"\\'d\", \"\", string)\n",
    "        string = re.sub(r\"\\'ll\", \"\", string)\n",
    "        string = re.sub(r\"'\", \"\", string)\n",
    "        string = re.sub(r\"\\\\n\", \" \", string)\n",
    "        string = re.sub(r\"\\\\t\", \" \", string)\n",
    "        string = re.sub(r\"\\s{2,}\", \" \", string) # Consecutive spaces\n",
    "        return string.strip()\n",
    "    \n",
    "    def fit(self, X_df, y=None):\n",
    "        return self\n",
    "    \n",
    "    def transform(self, X_df, y=None):\n",
    "        transform_X_df = X_df.copy(deep=True)\n",
    "        transform_X_df.dropna()\n",
    "        transform_X_df['title'] = transform_X_df['title'].apply(lambda x: self.clean_str(x))\n",
    "        transform_X_df['text'] = transform_X_df['text'].apply(lambda x: self.clean_str(x))\n",
    "        \n",
    "        return transform_X_df"
   ]
  },
  {
   "cell_type": "markdown",
   "metadata": {},
   "source": [
    "### 3.1.  Chọn các đặc trưng\n",
    "Dựa trên những quan sát rút ra được từ kết quả thống kê, các đặc trưng được lựa chọn bao gồm:\n",
    "+ Số ký tự văn bản\n",
    "+ Số từ trong văn bản\n",
    "+ Số lượng dấu cảm thán (!, ?)\n",
    "+ Số chữ cái viết hoa\n",
    "+ Số chữ cái viết thường\n",
    "+ Các giá trị TF-IDF cho các từ trong văn bản (có xử lý văn bản trước đó), có những ưu tiên cho các từ trong title"
   ]
  },
  {
   "cell_type": "markdown",
   "metadata": {},
   "source": [
    "#### 3.1.1 Các đặc trưng cơ bản"
   ]
  },
  {
   "cell_type": "code",
   "execution_count": 17,
   "metadata": {},
   "outputs": [],
   "source": [
    "class NumTextCharFeature(BaseEstimator, TransformerMixin):\n",
    "    def fit(self, X_df, y=None):\n",
    "        return self\n",
    "    \n",
    "    def transform(self, X_df, y=None):\n",
    "        return np.array([X_df['text'].apply(lambda x: len(x)).values], \\\n",
    "                        dtype=np.float).transpose()\n",
    "    \n",
    "class NumTextTokenFeature(BaseEstimator, TransformerMixin):\n",
    "    def fit(self, X_df, y=None):\n",
    "        return self\n",
    "    \n",
    "    def transform(self, X_df, y=None):\n",
    "        return np.array([X_df['text'].apply(lambda x: len(x.split(' '))).values], \\\n",
    "                        dtype=np.float).transpose()\n",
    "    \n",
    "    \n",
    "class NumTextExclamationMarkFeature(BaseEstimator, TransformerMixin):\n",
    "    def fit(self, X_df, y=None):\n",
    "        return self\n",
    "    \n",
    "    def transform(self, X_df, y=None):\n",
    "        return np.array([X_df['text'].apply(lambda x: (x.count('!')+x.count('?'))).values], \\\n",
    "                        dtype=np.float).transpose()\n",
    "    \n",
    "class NumTextLowerCaseFeature(BaseEstimator, TransformerMixin):\n",
    "    def fit(self, X_df, y=None):\n",
    "        return self\n",
    "    \n",
    "    def transform(self, X_df, y=None):\n",
    "        return np.array([X_df['text'].str.count(r'[a-z]').values], \\\n",
    "                        dtype=np.float).transpose()\n",
    "\n",
    "class NumTextUpperCaseFeature(BaseEstimator, TransformerMixin):\n",
    "    def fit(self, X_df, y=None):\n",
    "        return self\n",
    "    \n",
    "    def transform(self, X_df, y=None):\n",
    "        return np.array([X_df['text'].str.count(r'[A-Z]').values], \\\n",
    "                        dtype=np.float).transpose()\n"
   ]
  },
  {
   "cell_type": "code",
   "execution_count": 18,
   "metadata": {},
   "outputs": [
    {
     "name": "stdout",
     "output_type": "stream",
     "text": [
      "[[5539.]\n",
      " [1789.]\n",
      " [1958.]\n",
      " ...\n",
      " [1024.]\n",
      " [ 675.]\n",
      " [4332.]]\n",
      "[[4.]\n",
      " [0.]\n",
      " [0.]\n",
      " ...\n",
      " [0.]\n",
      " [0.]\n",
      " [0.]]\n"
     ]
    }
   ],
   "source": [
    "# TEST CELL\n",
    "pl = NumTextCharFeature()\n",
    "transform_X = pl.transform(X_df)\n",
    "print(transform_X)\n",
    "\n",
    "pl = NumTextExclamationMarkFeature()\n",
    "transform_X = pl.transform(X_df)\n",
    "print(transform_X)"
   ]
  },
  {
   "cell_type": "markdown",
   "metadata": {},
   "source": [
    "#### 3.1.2 TF-IDF"
   ]
  },
  {
   "cell_type": "code",
   "execution_count": 19,
   "metadata": {},
   "outputs": [],
   "source": [
    "# Các module tiền xử lý trước khi tính tf-idf\n",
    "class RemoveTone(BaseEstimator, TransformerMixin):\n",
    "    @staticmethod\n",
    "    def remove_tone(text):\n",
    "        return unidecode.unidecode(text)\n",
    "    \n",
    "    def fit(self, X_df, y=None):\n",
    "        return self\n",
    "    \n",
    "    def transform(self, X_df, y=None):\n",
    "        transform_X_df = X_df.copy(deep=True)\n",
    "        transform_X_df['title'] = transform_X_df['title'].apply(lambda x: self.remove_tone(x))\n",
    "        transform_X_df['text'] = transform_X_df['text'].apply(lambda x: self.remove_tone(x))\n",
    "        return transform_X_df\n",
    "    \n",
    "\n",
    "class LowerCase(BaseEstimator, TransformerMixin):\n",
    "    @staticmethod\n",
    "    def lower_case(text):\n",
    "        return text.lower()\n",
    "    \n",
    "    def fit(self, X_df, y=None):\n",
    "        return self\n",
    "    \n",
    "    def transform(self, X_df, y=None):\n",
    "        transform_X_df = X_df.copy(deep=True)\n",
    "        transform_X_df['title'] = transform_X_df['title'].apply(lambda x: self.lower_case(x))\n",
    "        transform_X_df['text'] = transform_X_df['text'].apply(lambda x: self.lower_case(x))\n",
    "        return transform_X_df\n",
    "    \n",
    "    \n",
    "class RemoveDigitLetter(BaseEstimator, TransformerMixin):\n",
    "    @staticmethod\n",
    "    def remove_digit(text):\n",
    "        return re.sub('[0-9]', '', text)\n",
    "    \n",
    "    def fit(self, X_df, y=None):\n",
    "        return self\n",
    "    \n",
    "    def transform(self, X_df, y=None):\n",
    "        transform_X_df = X_df.copy(deep=True)\n",
    "        transform_X_df['title'] = transform_X_df['title'].apply(lambda x: self.remove_digit(x))\n",
    "        transform_X_df['text'] = transform_X_df['text'].apply(lambda x: self.remove_digit(x))\n",
    "        return transform_X_df\n",
    "\n",
    "\n",
    "class ItemSelector(BaseEstimator, TransformerMixin):\n",
    "    def __init__(self, key):\n",
    "        self.key = key\n",
    "\n",
    "    def fit(self, x, y=None):\n",
    "        return self\n",
    "\n",
    "    def transform(self, data_dict):\n",
    "        return data_dict[self.key]"
   ]
  },
  {
   "cell_type": "code",
   "execution_count": 20,
   "metadata": {},
   "outputs": [],
   "source": [
    "# # TEST CELL\n",
    "# # lowercase = LowerCase()\n",
    "# # lowercase.transform(X_df)\n",
    "# # title_tfidf = TitleTfidf()\n",
    "# # title_tfidf.fit_transform(X_df)\n",
    "# rd = RemoveDigitLetter()\n",
    "# rd.transform(X_df)"
   ]
  },
  {
   "cell_type": "markdown",
   "metadata": {},
   "source": [
    "## 4. Thiết kế mô hình hoàn chỉnh"
   ]
  },
  {
   "cell_type": "markdown",
   "metadata": {},
   "source": [
    "### 4.0. Mô hình hoàn chỉnh"
   ]
  },
  {
   "cell_type": "code",
   "execution_count": 21,
   "metadata": {},
   "outputs": [],
   "source": [
    "general_features_pipeline = Pipeline([\n",
    "    ('general_features', FeatureUnion([\n",
    "        ('num_text_char_feature', NumTextCharFeature()),\n",
    "        ('num_text_token_feature', NumTextTokenFeature()),\n",
    "        ('num_text_exclamation_mark_feature', NumTextExclamationMarkFeature()),\n",
    "        ('num_text_lower_case_feature', NumTextLowerCaseFeature()),\n",
    "        ('num_text_upper_case_feature', NumTextUpperCaseFeature())\n",
    "    ])),\n",
    "    ('scaler', StandardScaler())\n",
    "])\n",
    "\n",
    "tfidf_features_pipeline = Pipeline([\n",
    "    ('remove_tone', RemoveTone()),\n",
    "    ('lower_case', LowerCase()),\n",
    "    ('remove_digits', RemoveDigitLetter()),\n",
    "    ('remove_space', RemoveIrrelevant()),\n",
    "    ('tfidf_features', FeatureUnion([\n",
    "        ('title_tfidf_features', Pipeline([\n",
    "            ('selector', ItemSelector(key='title')),\n",
    "            ('tfidf', TfidfVectorizer())\n",
    "        ])),\n",
    "        ('text_tfidf_features', Pipeline([\n",
    "            ('selector', ItemSelector(key='text')),\n",
    "            ('tfidf', TfidfVectorizer())\n",
    "        ]))\n",
    "    ]))\n",
    "])\n",
    "\n",
    "\n",
    "model = linear_model.LogisticRegression(solver=\"lbfgs\",multi_class=\"auto\",max_iter=4000, random_state=0)\n",
    "\n",
    "full_pipeline = Pipeline([\n",
    "    ('remove_irrelevant', RemoveIrrelevant()),\n",
    "    ('features', FeatureUnion([\n",
    "        ('general_features_pipeline', general_features_pipeline),\n",
    "        ('tfidf_features_pipeline', tfidf_features_pipeline)\n",
    "    ])),\n",
    "    ('classifier', model)\n",
    "])"
   ]
  },
  {
   "cell_type": "markdown",
   "metadata": {},
   "source": [
    "### 4.2. Khai báo các hyper parameter cần tinh chỉnh"
   ]
  },
  {
   "cell_type": "code",
   "execution_count": 22,
   "metadata": {},
   "outputs": [],
   "source": [
    "ngram_range_list = [(1,1), (1,2), (1,3), (2,3)]\n",
    "logistic_regularizations = [0.1, 1, 10, 100]"
   ]
  },
  {
   "cell_type": "markdown",
   "metadata": {},
   "source": [
    "### 4.3. Huấn luyện"
   ]
  },
  {
   "cell_type": "code",
   "execution_count": 23,
   "metadata": {},
   "outputs": [
    {
     "name": "stdout",
     "output_type": "stream",
     "text": [
      "Update best..\n",
      "Current best average accuracy on kfold: 0.8302\n",
      "Current best ngram_range:  (1, 1)\n",
      "Current best regularization:  0.1\n",
      "============================================================\n",
      "Update best..\n",
      "Current best average accuracy on kfold: 0.8743\n",
      "Current best ngram_range:  (1, 1)\n",
      "Current best regularization:  1\n",
      "============================================================\n",
      "Update best..\n",
      "Current best average accuracy on kfold: 0.8782\n",
      "Current best ngram_range:  (1, 1)\n",
      "Current best regularization:  10\n",
      "============================================================\n",
      "Update best..\n",
      "Current best average accuracy on kfold: 0.8813\n",
      "Current best ngram_range:  (1, 2)\n",
      "Current best regularization:  10\n",
      "============================================================\n",
      "Update best..\n",
      "Current best average accuracy on kfold: 0.8823\n",
      "Current best ngram_range:  (1, 2)\n",
      "Current best regularization:  100\n",
      "============================================================\n",
      "Update best..\n",
      "Current best average accuracy on kfold: 0.8825\n",
      "Current best ngram_range:  (1, 3)\n",
      "Current best regularization:  100\n",
      "============================================================\n",
      "Update best..\n",
      "Current best average accuracy on kfold: 0.8827\n",
      "Current best ngram_range:  (2, 3)\n",
      "Current best regularization:  100\n",
      "============================================================\n",
      "************************************************************\n",
      "Best average accuracy on kfold: 0.8827\n",
      "Best ngram_range:  (2, 3)\n",
      "Best regularization:  100\n",
      "Time elapsed: 38.0m 31.36557388305664s\n"
     ]
    }
   ],
   "source": [
    "k_fold = KFold(n_splits=5, random_state=0)\n",
    "\n",
    "best_acc = 0.0\n",
    "best_ngram_range = None\n",
    "best_regularization_C = None\n",
    "val_accs = []\n",
    "train_accs = []\n",
    "\n",
    "start = time.time()\n",
    "\n",
    "for ngram_range in ngram_range_list:\n",
    "    for C in logistic_regularizations:\n",
    "        full_pipeline.set_params(classifier__C = C)\n",
    "        full_pipeline.set_params(\n",
    "            features__tfidf_features_pipeline__tfidf_features__title_tfidf_features__tfidf__ngram_range=ngram_range\n",
    "        )\n",
    "        \n",
    "        train_scores = []\n",
    "        val_scores = []\n",
    "        for i, (train_index, valid_index) in enumerate(k_fold.split(X_df)):\n",
    "            X_train, X_valid = X_df.iloc[train_index], X_df.iloc[valid_index]\n",
    "            y_train, y_valid = y_sr.iloc[train_index], y_sr.iloc[valid_index]\n",
    "\n",
    "            full_pipeline.fit(X_train, y_train)\n",
    "            \n",
    "            y_train_predict = full_pipeline.predict(X_train)\n",
    "            y_valid_predict = full_pipeline.predict(X_valid)\n",
    "            \n",
    "            train_score = metrics.accuracy_score(y_train_predict, y_train)\n",
    "            val_score = metrics.accuracy_score(y_valid_predict, y_valid)\n",
    "            train_scores.append(train_score)\n",
    "            val_scores.append(val_score)\n",
    "        \n",
    "        val_accs.append(np.mean(val_scores))\n",
    "        train_accs.append(np.mean(train_scores))\n",
    "        \n",
    "        if best_acc < np.mean(val_scores):\n",
    "            best_acc = np.mean(val_scores)\n",
    "            best_ngram_range = ngram_range\n",
    "            best_regularization_C = C\n",
    "            print('Update best..')\n",
    "            print('Current best average accuracy on kfold: {:.4f}'.format(best_acc))\n",
    "            print('Current best ngram_range: ', best_ngram_range)\n",
    "            print('Current best regularization: ', best_regularization_C)\n",
    "            print('='*60)\n",
    "            \n",
    "print('*'*60)\n",
    "print('Best average accuracy on kfold: {:.4f}'.format(best_acc))\n",
    "print('Best ngram_range: ', best_ngram_range)\n",
    "print('Best regularization: ', best_regularization_C)\n",
    "print('Time elapsed: {}m {}s'.format( (time.time() - start) // 60, (time.time() - start) % 60) )"
   ]
  },
  {
   "cell_type": "code",
   "execution_count": 24,
   "metadata": {},
   "outputs": [
    {
     "data": {
      "image/png": "[encoded data removed]",
      "text/plain": [
       "<Figure size 720x360 with 2 Axes>"
      ]
     },
     "metadata": {
      "needs_background": "light"
     },
     "output_type": "display_data"
    }
   ],
   "source": [
    "train_accs_df = pd.DataFrame(data=np.array(train_accs).reshape(len(ngram_range_list), -1),\n",
    "                             index=ngram_range_list, columns=logistic_regularizations)\n",
    "val_accs_df = pd.DataFrame(data=np.array(val_accs).reshape(len(ngram_range_list), -1), \n",
    "                           index=ngram_range_list, columns=logistic_regularizations)\n",
    "\n",
    "min_err = min(min(train_accs), min(val_accs))\n",
    "max_err = max(max(train_accs), max(val_accs))\n",
    "plt.figure(figsize=(10, 5))\n",
    "plt.subplot(1, 2, 1)\n",
    "sns.heatmap(train_accs_df, vmin=min_err, vmax=max_err, square=True, annot=True, \n",
    "            cbar=False, fmt='.3f', cmap='Reds')\n",
    "plt.title('train accs'); plt.xlabel('logistic_regularizations'); plt.ylabel('ngram_range_list')\n",
    "plt.subplot(1, 2, 2)\n",
    "sns.heatmap(val_accs_df, vmin=min_err, vmax=max_err, square=True, annot=True, \n",
    "            cbar=False, fmt='.3f', cmap='Reds')\n",
    "plt.title('validation accs'); plt.xlabel('logistic_regularizations'); plt.ylabel('ngram_range_list');"
   ]
  },
  {
   "cell_type": "code",
   "execution_count": 25,
   "metadata": {},
   "outputs": [
    {
     "data": {
      "text/plain": [
       "Pipeline(memory=None,\n",
       "     steps=[('remove_irrelevant', RemoveIrrelevant()), ('features', FeatureUnion(n_jobs=None,\n",
       "       transformer_list=[('general_features_pipeline', Pipeline(memory=None,\n",
       "     steps=[('general_features', FeatureUnion(n_jobs=None,\n",
       "       transformer_list=[('num_text_char_feature', NumTextCharFeature()), (..., penalty='l2', random_state=0, solver='lbfgs',\n",
       "          tol=0.0001, verbose=0, warm_start=False))])"
      ]
     },
     "execution_count": 25,
     "metadata": {},
     "output_type": "execute_result"
    }
   ],
   "source": [
    "# Huấn luyện lại mô hình với kết quả tốt nhất\n",
    "full_pipeline.set_params(classifier__C = best_regularization_C)\n",
    "full_pipeline.set_params(\n",
    "    features__tfidf_features_pipeline__tfidf_features__title_tfidf_features__tfidf__ngram_range=best_ngram_range\n",
    ")\n",
    "\n",
    "full_pipeline.fit(X_df, y_sr)"
   ]
  },
  {
   "cell_type": "markdown",
   "metadata": {},
   "source": [
    "### 4.4. Top các gram có idf lớn nhất"
   ]
  },
  {
   "cell_type": "code",
   "execution_count": 26,
   "metadata": {},
   "outputs": [
    {
     "name": "stdout",
     "output_type": "stream",
     "text": [
      "['zverev stunned by', 'ha noi still', 'ha noi voters', 'ha noi traffic', 'ha noi third']\n"
     ]
    }
   ],
   "source": [
    "title_tfidf_vectorizer = dict(\n",
    "    dict(full_pipeline.named_steps['features'].transformer_list).get('tfidf_features_pipeline').\n",
    "    named_steps['tfidf_features'].transformer_list).get('title_tfidf_features').named_steps['tfidf']\n",
    "\n",
    "indices = np.argsort(title_tfidf_vectorizer.idf_)[::-1]\n",
    "features = title_tfidf_vectorizer.get_feature_names()\n",
    "top_features = [features[i] for i in indices[:5]]\n",
    "print(top_features)"
   ]
  },
  {
   "cell_type": "code",
   "execution_count": 27,
   "metadata": {},
   "outputs": [
    {
     "name": "stdout",
     "output_type": "stream",
     "text": [
      "['zvonimir', 'perforated', 'eliezer', 'permissions', 'eliments']\n"
     ]
    }
   ],
   "source": [
    "text_tfidf_vectorizer = dict(\n",
    "    dict(full_pipeline.named_steps['features'].transformer_list).get('tfidf_features_pipeline').\n",
    "    named_steps['tfidf_features'].transformer_list).get('text_tfidf_features').named_steps['tfidf']\n",
    "\n",
    "indices = np.argsort(text_tfidf_vectorizer.idf_)[::-1]\n",
    "features = text_tfidf_vectorizer.get_feature_names()\n",
    "top_features = [features[i] for i in indices[:5]]\n",
    "print(top_features)"
   ]
  },
  {
   "cell_type": "markdown",
   "metadata": {},
   "source": [
    "## 5. Kết quả trên tập test"
   ]
  },
  {
   "cell_type": "code",
   "execution_count": 28,
   "metadata": {},
   "outputs": [],
   "source": [
    "test_df = pd.read_csv('../data/csv/test.csv', index_col = 0)\n",
    "test_df.label.astype(int)\n",
    "\n",
    "y_test = test_df[\"label\"]\n",
    "X_test = test_df.drop(\"label\", axis=1)"
   ]
  },
  {
   "cell_type": "code",
   "execution_count": 29,
   "metadata": {},
   "outputs": [],
   "source": [
    "y_test_predict = full_pipeline.predict(X_test)"
   ]
  },
  {
   "cell_type": "code",
   "execution_count": 30,
   "metadata": {},
   "outputs": [
    {
     "data": {
      "image/png": "[encoded data removed]",
      "text/plain": [
       "<Figure size 648x648 with 2 Axes>"
      ]
     },
     "metadata": {
      "needs_background": "light"
     },
     "output_type": "display_data"
    }
   ],
   "source": [
    "cm = metrics.confusion_matrix(y_test, y_test_predict)\n",
    "plt.figure(figsize=(9,9))\n",
    "sns.heatmap(cm, annot=True, fmt=\".0f\", linewidths=.5, square = True, cmap = 'Blues_r');\n",
    "plt.ylabel('Actual label')\n",
    "plt.xlabel('Predicted label')\n",
    "all_sample_title = 'Accuracy Score: {0}'.format(metrics.accuracy_score(y_test, y_test_predict))\n",
    "plt.title(all_sample_title, size = 15);"
   ]
  }
 ],
 "metadata": {
  "kernelspec": {
   "display_name": "Python 3",
   "language": "python",
   "name": "python3"
  },
  "language_info": {
   "codemirror_mode": {
    "name": "ipython",
    "version": 3
   },
   "file_extension": ".py",
   "mimetype": "text/x-python",
   "name": "python",
   "nbconvert_exporter": "python",
   "pygments_lexer": "ipython3",
   "version": "3.7.3"
  }
 },
 "nbformat": 4,
 "nbformat_minor": 4
}
