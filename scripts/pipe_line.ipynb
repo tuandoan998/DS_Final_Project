{
 "cells": [
  {
   "cell_type": "markdown",
   "metadata": {},
   "source": [
    "# Project Pipeline"
   ]
  },
  {
   "cell_type": "markdown",
   "metadata": {},
   "source": [
    "## 0. Import"
   ]
  },
  {
   "cell_type": "code",
   "execution_count": 15,
   "metadata": {},
   "outputs": [],
   "source": [
    "%matplotlib inline\n",
    "import matplotlib.pyplot as plt\n",
    "import seaborn as sns\n",
    "import pandas as pd\n",
    "import numpy as np\n",
    "import re\n",
    "\n",
    "from sklearn.model_selection import train_test_split, KFold\n",
    "from sklearn.preprocessing import OneHotEncoder, StandardScaler\n",
    "from sklearn.impute import SimpleImputer\n",
    "from sklearn.base import BaseEstimator, TransformerMixin\n",
    "from sklearn.pipeline import Pipeline, make_pipeline\n",
    "from sklearn.compose import ColumnTransformer, make_column_transformer\n",
    "from sklearn.neural_network import MLPClassifier"
   ]
  },
  {
   "cell_type": "markdown",
   "metadata": {},
   "source": [
    "## 1. Tách dữ liệu để huấn luyện và kiểm thử\n",
    "Mục đích của bước này là chia dữ liệu làm 2 phần, một phần để huấn luyện và phần còn lại coi như là thực tế và để đánh giá cuối cùng.\n",
    "- Đầu vào: đường dẫn đến file dữ liệu đã crawl\n",
    "- Đầu ra: 1 file train.csv và 1 file test.csv"
   ]
  },
  {
   "cell_type": "code",
   "execution_count": 2,
   "metadata": {},
   "outputs": [],
   "source": [
    "def split_train_test(data_path, train_data_path, test_data_path):\n",
    "    data_df = pd.read_csv(data_path, index_col=0, sep='\\t')\n",
    "    #data_df.dropna(inplace=True)\n",
    "    data_df.label.astype(int)\n",
    "    \n",
    "    train_df, test_df = train_test_split(data_df, test_size=0.2, random_state=0)\n",
    "    train_df.to_csv(train_data_path)\n",
    "    test_df.to_csv(test_data_path)"
   ]
  },
  {
   "cell_type": "code",
   "execution_count": 3,
   "metadata": {},
   "outputs": [],
   "source": [
    "split_train_test('../data/csv/vietnamnews.csv', '../data/csv/train.csv', '../data/csv/test.csv')\n",
    "data_df = pd.read_csv('../data/csv/train.csv', index_col = 0)\n",
    "\n",
    "y_sr = data_df[\"label\"]\n",
    "X_df = data_df.drop(\"label\", axis=1)"
   ]
  },
  {
   "cell_type": "markdown",
   "metadata": {},
   "source": [
    "## 2. Thống kê dữ liệu tập huấn luyện\n",
    "- Kiểm tra các giá trị thiếu\n",
    "- Kiểm tra độ dài trung bình của nội dung và tiêu đề của các thể loại, và vẽ biểu đồ"
   ]
  },
  {
   "cell_type": "code",
   "execution_count": 4,
   "metadata": {},
   "outputs": [
    {
     "name": "stdout",
     "output_type": "stream",
     "text": [
      "'ABBANK reports $36.97 million profit in first nine months'\n",
      "'Park to coach Việt Nam until 2022'\n",
      "'Experimental tuồng play to be staged in HCM\\xa0City'\n",
      "'New flight links Hải Phòng and Kunming'\n",
      "'VNA making active contributions to OANA goal realisation'\n",
      "'Liêm enters third round of FIDE World Cup'\n",
      "'Hà Nội demolish Thanh Hoá in V.League'\n",
      "'Solid waste treatment facilities to be examined'\n",
      "'Foreign investors allowed 34 per cent holding at Vietnamese airlines'\n",
      "'Việt Nam drawn against regional rivals for World Cup qualifiers'\n",
      "'NA continues questioning ministers of industry and trade, home affairs'\n",
      "Quick's Quick Tips\n",
      "'Bắc Kạn manages mineral exploitation via cameras'\n",
      "'Party Central Committee’s 10th plenum concludes'\n",
      "'PM Phúc extends sympathy to China over natural disasters'\n",
      "'Street foods test positive for\\xa0carcinogens'\n"
     ]
    }
   ],
   "source": [
    "def get_data_insight(X_df):\n",
    "    raise NotImplementedError\n",
    "\n",
    "ms = set()\n",
    "for i, title in enumerate(X_df.title):\n",
    "    prev_len = len(ms)\n",
    "    ms.add(title)\n",
    "    if prev_len == len(ms):\n",
    "        print(title)\n",
    "        "
   ]
  },
  {
   "cell_type": "code",
   "execution_count": 5,
   "metadata": {},
   "outputs": [],
   "source": [
    "# TEST CELL"
   ]
  },
  {
   "cell_type": "markdown",
   "metadata": {},
   "source": [
    "## 3. Tiền xử lý dữ liệu"
   ]
  },
  {
   "cell_type": "code",
   "execution_count": 42,
   "metadata": {},
   "outputs": [],
   "source": [
    "# Module được thực hiện đầu Pipeline, xóa các khoảng trắng liên tiếp, các ký tự: \\n, \\t, ...\n",
    "\n",
    "class RemoveIrrelevant(BaseEstimator, TransformerMixin):\n",
    "    def clean_str(string):\n",
    "        string = re.sub(r\"\\\\xa0\", \"\", string)\n",
    "        string = re.sub(r\"\\'s\", \"\", string)\n",
    "        string = re.sub(r\"\\'ve\", \"\", string)\n",
    "        string = re.sub(r\"n\\'t\", \"\", string)\n",
    "        string = re.sub(r\"\\'re\", \"\", string)\n",
    "        string = re.sub(r\"\\'d\", \"\", string)\n",
    "        string = re.sub(r\"\\'ll\", \"\", string)\n",
    "        string = re.sub(r\"'\", \"\", string)\n",
    "        string = re.sub(r\"\\\\n\", \"\", string)\n",
    "        string = re.sub(r\"\\\\t\", \"\", string)\n",
    "        return string.strip().lower()\n",
    "    \n",
    "    def fit(self, X_df, y=None):\n",
    "        return self\n",
    "    \n",
    "    def transform(self, X_df, y=None):\n",
    "        transform_X_df = X_df.copy()\n",
    "        transform_X_df['title'] = transform_X_df['title'].apply(lambda x: clean_str(x))\n",
    "        transform_X_df['text'] = transform_X_df['text'].apply(lambda x: clean_str(x))\n",
    "        return transform_X_df"
   ]
  },
  {
   "cell_type": "code",
   "execution_count": 46,
   "metadata": {},
   "outputs": [
    {
     "name": "stdout",
     "output_type": "stream",
     "text": [
      "'MINSK —\\xa0National Assembly (NA) Chairwoman Nguyễn Thị Kim Ngân and her entourage arrived at Minsk International Airport yesterday morning, beginning a three-day official visit to Belarus.The trip is made at the invitation of Chairman of the Council of the Republic Mikhail Myasnikovich and Chairman of the House of Representatives of the NA of\\xa0Belarus Vladimir Andreichenko.\\n\\nWelcoming the Vietnamese delegation at the airport were Deputy Chairman of the Council of the Republic Isachenko Anatoly Mikhailovich, other officials of the Council, and Vietnamese Ambassador to Belarus Phạm Hải.\\n\\nThe first official trip to Belarus by Chairwoman Ngân aims to enhance the traditional friendship and multifaceted cooperation between the two countries and push ahead with the implementation of cooperation agreements between the two parliaments.\\n\\nIn 2019, the two countries’ relations have enjoyed strong developments with cooperation enhanced in all spheres.\\n\\nIn politics, Việt Nam and Belarus have cooperated closely and supported each other at the United Nations, the Non-Aligned Movement and many other international forums and\\xa0organisations.\\n\\nIn the economic field, bilateral trade has grown well, from US$107.15 million in 2014 to $153.4 million in just the first nine months of 2019. Trade revenue is expected to reach $200 million this year after standing at around $100 million USD for many years.\\n\\nBilateral collaboration has also been fruitful in many other fields such as education-training, tourism, culture, science-technology, labour, and people-to-people exchange.—VNS'\n",
      "minsk —national assembly (na) chairwoman nguyễn thị kim ngân and her entourage arrived at minsk international airport yesterday morning, beginning a three-day official visit to belarus.the trip is made at the invitation of chairman of the council of the republic mikhail myasnikovich and chairman of the house of representatives of the na ofbelarus vladimir andreichenko.welcoming the vietnamese delegation at the airport were deputy chairman of the council of the republic isachenko anatoly mikhailovich, other officials of the council, and vietnamese ambassador to belarus phạm hải.the first official trip to belarus by chairwoman ngân aims to enhance the traditional friendship and multifaceted cooperation between the two countries and push ahead with the implementation of cooperation agreements between the two parliaments.in 2019, the two countries’ relations have enjoyed strong developments with cooperation enhanced in all spheres.in politics, việt nam and belarus have cooperated closely and supported each other at the united nations, the non-aligned movement and many other international forums andorganisations.in the economic field, bilateral trade has grown well, from us$107.15 million in 2014 to $153.4 million in just the first nine months of 2019. trade revenue is expected to reach $200 million this year after standing at around $100 million usd for many years.bilateral collaboration has also been fruitful in many other fields such as education-training, tourism, culture, science-technology, labour, and people-to-people exchange.—vns\n"
     ]
    }
   ],
   "source": [
    "# TEST CELL\n",
    "pl = RemoveIrrelevant()\n",
    "transform_X = pl.transform(X_df)\n",
    "print(X_df['text'][5])\n",
    "print(transform_X['text'][5])"
   ]
  },
  {
   "cell_type": "markdown",
   "metadata": {},
   "source": [
    "### 3.1.  Chọn các đặc trưng\n",
    "+ Số ký tự văn bản\n",
    "+ Số từ trong văn bản\n",
    "+ Số lượng dấu cảm thán (!, ?)\n",
    "+ Số chữ cái viết hoa\n",
    "+ Số chữ cái viết thường\n",
    "+ Các giá trị TF-IDF cho các từ trong văn bản (có xử lý văn bản trước đó), có những ưu tiên cho các từ trong title"
   ]
  },
  {
   "cell_type": "markdown",
   "metadata": {},
   "source": [
    "#### 3.1.1 Các đặc trưng cơ bản"
   ]
  },
  {
   "cell_type": "code",
   "execution_count": 7,
   "metadata": {},
   "outputs": [],
   "source": [
    "class NumCharFeature(BaseEstimator, TransformerMixin):\n",
    "    def fit(self, X_df, y=None):\n",
    "        pass\n",
    "    \n",
    "    def transform(self, X_df, y=None):\n",
    "        pass\n",
    "    \n",
    "class NumTokenFeature(BaseEstimator, TransformerMixin):\n",
    "    def fit(self, X_df, y=None):\n",
    "        pass\n",
    "    \n",
    "    def transform(self, X_df, y=None):\n",
    "        pass\n",
    "    \n",
    "    \n",
    "class NumExclamationMarkFeature(BaseEstimator, TransformerMixin):\n",
    "    def fit(self, X_df, y=None):\n",
    "        pass\n",
    "    \n",
    "    def transform(self, X_df, y=None):\n",
    "        pass\n",
    "    \n",
    "class NumLowerCaseFeature(BaseEstimator, TransformerMixin):\n",
    "    def fit(self, X_df, y=None):\n",
    "        pass\n",
    "    \n",
    "    def transform(self, X_df, y=None):\n",
    "        pass\n",
    "\n",
    "    \n",
    "class NumUpperCaseFeature(BaseEstimator, TransformerMixin):\n",
    "    def fit(self, X_df, y=None):\n",
    "        pass\n",
    "    \n",
    "    def transform(self, X_df, y=None):\n",
    "        pass\n"
   ]
  },
  {
   "cell_type": "markdown",
   "metadata": {},
   "source": [
    "#### 3.1.2 Thử nghiệm TF-IDF trên 2 cột title và text và đưa ra vài heuristic về sự ưu tiên cho cột title"
   ]
  },
  {
   "cell_type": "code",
   "execution_count": 8,
   "metadata": {},
   "outputs": [],
   "source": [
    "# Các module tiền xử lý trước khi tính tf-idf\n",
    "\n",
    "class RemoveSpace(BaseEstimator, TransformerMixin):\n",
    "    def fit(self, X_df, y=None):\n",
    "        pass\n",
    "    \n",
    "    def transform(self, X_df, y=None):\n",
    "        pass\n",
    "    \n",
    "    \n",
    "class RemoveTone(BaseEstimator, TransformerMixin):\n",
    "    def fit(self, X_df, y=None):\n",
    "        pass\n",
    "    \n",
    "    def transform(self, X_df, y=None):\n",
    "        pass\n",
    "    \n",
    "class LowerCase(BaseEstimator, TransformerMixin):\n",
    "    def fit(self, X_df, y=None):\n",
    "        pass\n",
    "    \n",
    "    def transform(self, X_df, y=None):\n",
    "        pass\n",
    "        "
   ]
  },
  {
   "cell_type": "code",
   "execution_count": 9,
   "metadata": {},
   "outputs": [],
   "source": [
    "# TF-IDF"
   ]
  },
  {
   "cell_type": "markdown",
   "metadata": {},
   "source": [
    "## 4. Thiết kế mô hình hoàn chỉnh"
   ]
  },
  {
   "cell_type": "markdown",
   "metadata": {},
   "source": [
    "### 4.1. Chia k fold "
   ]
  },
  {
   "cell_type": "code",
   "execution_count": 10,
   "metadata": {},
   "outputs": [],
   "source": [
    "def split_k_folds(n_train_sample, k):\n",
    "    return cross_validation.KFold(n_train_sample, n_folds=k)\n",
    "\n",
    "def split_k_folds2(k):\n",
    "    return KFold(n_splits=k)"
   ]
  },
  {
   "cell_type": "markdown",
   "metadata": {},
   "source": [
    "### 4.2. Khai báo các classifier"
   ]
  },
  {
   "cell_type": "code",
   "execution_count": 11,
   "metadata": {},
   "outputs": [],
   "source": [
    "clf_list = []\n",
    "\n",
    "# classifier parameters config\n",
    "hyper_params_cfg = {\n",
    "    'mlp':{\n",
    "        'hidden_layer_sizes': [],\n",
    "        'activation': [],\n",
    "        'solver': []\n",
    "    },\n",
    "    'svm':{\n",
    "        'param1': [],\n",
    "        'param2': []\n",
    "    }\n",
    "}"
   ]
  },
  {
   "cell_type": "markdown",
   "metadata": {},
   "source": [
    "### 4.3. Huấn luyện"
   ]
  },
  {
   "cell_type": "code",
   "execution_count": 12,
   "metadata": {},
   "outputs": [],
   "source": [
    "# Khi train mới fit_transform và transform tại mỗi vòng for của fold"
   ]
  },
  {
   "cell_type": "code",
   "execution_count": null,
   "metadata": {},
   "outputs": [],
   "source": [
    "def train_model(classifier, feature_vector_train, feature_vector_valid, label, is_mlp=False):\n",
    "    # fit the training dataset on the classifier\n",
    "    classifier.fit(feature_vector_train, label)\n",
    "    \n",
    "    # predict the labels on validation dataset\n",
    "    predictions = classifier.predict(feature_vector_valid)\n",
    "    \n",
    "    if is_mlp:\n",
    "        predictions = predictions.argmax(axis=-1)\n",
    "    \n",
    "    return metrics.accuracy_score(predictions, valid_y)"
   ]
  },
  {
   "cell_type": "code",
   "execution_count": null,
   "metadata": {},
   "outputs": [],
   "source": [
    "k_fold = split_k_folds2(k=5)\n",
    "for train_index, valid_index in k_fold.split(X_df):\n",
    "    X_train, X_valid = X[train_index], X[valid_index]\n",
    "    y_train, y_valid = y[train_index], y[valid_index]\n",
    "    \n",
    "    "
   ]
  }
 ],
 "metadata": {
  "kernelspec": {
   "display_name": "Python 3",
   "language": "python",
   "name": "python3"
  },
  "language_info": {
   "codemirror_mode": {
    "name": "ipython",
    "version": 3
   },
   "file_extension": ".py",
   "mimetype": "text/x-python",
   "name": "python",
   "nbconvert_exporter": "python",
   "pygments_lexer": "ipython3",
   "version": "3.6.9"
  }
 },
 "nbformat": 4,
 "nbformat_minor": 4
}
